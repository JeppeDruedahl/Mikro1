{
 "cells": [
  {
   "cell_type": "markdown",
   "id": "effective-wallet",
   "metadata": {},
   "source": [
    "**Imports:**"
   ]
  },
  {
   "cell_type": "code",
   "execution_count": 1,
   "id": "computational-nature",
   "metadata": {},
   "outputs": [],
   "source": [
    "from types import SimpleNamespace\n",
    "from copy import deepcopy\n",
    "\n",
    "import numpy as np\n",
    "from scipy import optimize\n",
    "\n",
    "import matplotlib.pyplot as plt\n",
    "plt.style.use('seaborn-whitegrid')\n",
    "prop_cycle = plt.rcParams['axes.prop_cycle']\n",
    "colors = prop_cycle.by_key()['color']\n",
    "\n",
    "import ipywidgets as widgets\n",
    "\n",
    "DO_PRINT = False"
   ]
  },
  {
   "cell_type": "markdown",
   "id": "extraordinary-startup",
   "metadata": {},
   "source": [
    "# Utility function"
   ]
  },
  {
   "cell_type": "code",
   "execution_count": 2,
   "id": "native-calendar",
   "metadata": {},
   "outputs": [],
   "source": [
    "def utility_func(x1,x2,alpha,beta):\n",
    "\n",
    "    with np.errstate(divide='ignore', invalid='ignore'):\n",
    "\n",
    "        if beta == 0:\n",
    "            return x1**alpha*x2**(1-alpha)\n",
    "        else:\n",
    "            return (alpha*x1**(-beta)+(1-alpha)*x2**(-beta))**(-1/beta)\n",
    "\n",
    "def indiff_func_x1(u0,x1,alpha,beta):\n",
    "    if beta == 0.0:\n",
    "        return (u0/x1**alpha)**(1/(1-alpha))\n",
    "    else:\n",
    "        return ((u0**(-beta)-alpha*x1**(-beta))/(1-alpha))**(-1/beta)\n",
    "    \n",
    "def indiff_func_x2(u0,x2,alpha,beta):\n",
    "    if beta == 0.0:\n",
    "        return (u0/x2*(1-alpha))**(1/alpha)\n",
    "    else:\n",
    "        return ((u0**(-beta)-(1-alpha)*x2**(-beta))/alpha)**(-1/beta)\n",
    "    "
   ]
  },
  {
   "cell_type": "markdown",
   "id": "finite-portrait",
   "metadata": {},
   "source": [
    "# Maximize utility"
   ]
  },
  {
   "cell_type": "code",
   "execution_count": 3,
   "id": "historical-acting",
   "metadata": {},
   "outputs": [],
   "source": [
    "def maximize_utility(p1,p2,m,alpha,beta):\n",
    "    \n",
    "    # a. target\n",
    "    def target_2d(x):\n",
    "\n",
    "        excess_spending = p1*x[0]+p2*x[1]-m\n",
    "        return -utility_func(x[0],x[1],alpha,beta) + 1000*np.max([excess_spending,-x[0],-x[1],0])\n",
    "\n",
    "    # b. solve\n",
    "    x_guess = np.array([m/p1,m/p2])/2\n",
    "    res = optimize.minimize(target_2d,x_guess,method=\"Nelder-Mead\")\n",
    "\n",
    "    return res.x[0],res.x[1],-res.fun\n"
   ]
  },
  {
   "cell_type": "markdown",
   "id": "gentle-actress",
   "metadata": {},
   "source": [
    "# Minimize cost"
   ]
  },
  {
   "cell_type": "code",
   "execution_count": 4,
   "id": "plain-benefit",
   "metadata": {},
   "outputs": [],
   "source": [
    "def minimize_cost(x_guess,u0,p1,p2,alpha,beta):\n",
    "    \n",
    "    # a. target\n",
    "    def target_2d(x):\n",
    "        x1 = x[0]\n",
    "        x2 = x[1]\n",
    "        udiff = (utility_func(x1,x2,alpha,beta)-u0)** 2\n",
    "\n",
    "        return (p1*x1 + p2*x2 + 1000*udiff + 1000*np.max([-x[0],-x[1],0]))\n",
    "\n",
    "    # solve\n",
    "    res = optimize.minimize(target_2d,x_guess,method=\"Nelder-Mead\")\n",
    "\n",
    "    return res.x[0],res.x[1],res.fun"
   ]
  },
  {
   "cell_type": "markdown",
   "id": "copyrighted-wrestling",
   "metadata": {},
   "source": [
    "# Plot indifference curve"
   ]
  },
  {
   "cell_type": "code",
   "execution_count": 5,
   "id": "historic-monkey",
   "metadata": {},
   "outputs": [],
   "source": [
    "def plot_indifference_curve(ax,u0,alpha,beta,x1_max=10,x2_max=10,N=100,ls='-',color='black'):\n",
    "    \n",
    "    # a. fix x1\n",
    "    x1_x1 = np.linspace(0,x1_max,N)\n",
    "    with np.errstate(divide='ignore', invalid='ignore'):\n",
    "        x2_x1 = indiff_func_x1(u0,x1_x1,alpha,beta)\n",
    "\n",
    "    # b. fix x2\n",
    "    x2_x2 = np.linspace(0,x2_max,N)\n",
    "    with np.errstate(divide='ignore', invalid='ignore'):\n",
    "        x1_x2 = indiff_func_x2(u0,x2_x2, alpha, beta)\n",
    "\n",
    "    # c. combine\n",
    "    x1 = np.hstack([x1_x1,x1_x2])\n",
    "    x2 = np.hstack([x2_x1,x2_x2])\n",
    "\n",
    "    # . clean\n",
    "    with np.errstate(divide='ignore', invalid='ignore'):\n",
    "        u0s = utility_func(x1,x2,alpha,beta)\n",
    "        \n",
    "    I = np.isclose(u0s, u0)\n",
    "    x1 = x1[I]\n",
    "    x2 = x2[I]\n",
    "\n",
    "    I = (x1 >= 0) & (x2 >= 0)\n",
    "    x1 = x1[I]\n",
    "    x2 = x2[I]\n",
    "\n",
    "    # e. sort\n",
    "    I = np.argsort(x1)\n",
    "    x1 = x1[I]\n",
    "    x2 = x2[I]\n",
    "\n",
    "    ax.plot(x1,x2,ls=ls,color=color)\n",
    "    "
   ]
  },
  {
   "cell_type": "markdown",
   "id": "higher-composition",
   "metadata": {},
   "source": [
    "# Plot decomposition"
   ]
  },
  {
   "cell_type": "code",
   "execution_count": 6,
   "id": "italic-fence",
   "metadata": {},
   "outputs": [],
   "source": [
    "def plot_decomposition_exo(\n",
    "    method='Hicks',p1=1.0,p1_new=2.0,p2=1.0,m=20.0,alpha=0.5,beta=0.0,\n",
    "    steps=3,x1_max=25,x2_max=25,N=100,name=None\n",
    "):\n",
    "    \n",
    "    fig = plt.figure(figsize=(6,6),dpi=100)\n",
    "    ax = fig.add_subplot(1,1,1)\n",
    "    \n",
    "    # a. calculations\n",
    "    X = maximize_utility(p1,p2,m,alpha,beta)\n",
    "    x1,x2,u_ast = X\n",
    "\n",
    "    Z = maximize_utility(p1_new,p2,m,alpha,beta)\n",
    "    x1_new,x2_new,u_ast_new = Z\n",
    "    \n",
    "    if method == 'Hicks':\n",
    "        Y = minimize_cost((x1,x2),u_ast,p1_new,p2,alpha,beta)\n",
    "        x1_alt,x2_alt,m_alt = Y\n",
    "    else:\n",
    "        m_alt = p1_new*x1 + p2*x2\n",
    "        Y = maximize_utility(p1_new,p2,m_alt,alpha,beta)\n",
    "        x1_alt,x2_alt,u_ast_alt = Y\n",
    "        \n",
    "    \n",
    "    # b. plots\n",
    "    ax.plot([0,m/p1],[m/p2,0],ls='-',label='original',color=colors[0])\n",
    "    if steps > 1:\n",
    "        ax.plot([0,m/p1_new],[m/p2,0],ls='-',label='final',color=colors[1])\n",
    "    if steps > 2:\n",
    "        ax.plot([0,m_alt/p1_new],[m_alt/p2,0],ls='-',label='compensated',color=colors[2])\n",
    "        \n",
    "    # X\n",
    "    ax.plot(x1,x2,'ro',color='black')\n",
    "    ax.text(x1*1.015,x2*1.015,'$X$')\n",
    "    \n",
    "    plot_indifference_curve(\n",
    "        ax,u_ast,alpha,beta,x1_max,x2_max,N,ls='--',color=colors[0]\n",
    "    )\n",
    "\n",
    "    # Y\n",
    "    if steps > 2:\n",
    "        \n",
    "        ax.plot(x1_alt,x2_alt,'ro',color='black')\n",
    "        ax.text(x1_alt*1.015,x2_alt*1.015,'$Y$')\n",
    "        \n",
    "        if not method == 'Hicks':\n",
    "            plot_indifference_curve(\n",
    "                ax,u_ast_alt,alpha,beta,x1_max,x2_max,N,ls='--',color=colors[2]\n",
    "            )\n",
    "        \n",
    "    # Z\n",
    "    if steps > 1:\n",
    "        \n",
    "        ax.plot(x1_new,x2_new,'ro',color='black')\n",
    "        ax.text(x1_new*1.02,x2_new*1.02,'$Z$')\n",
    "        plot_indifference_curve(\n",
    "            ax,u_ast_new,alpha,beta,x1_max,x2_max,N,ls='--',color=colors[1]\n",
    "        )\n",
    "\n",
    "    if steps > 2:\n",
    "        \n",
    "        line = f'subtitution: $Y-X$ = ({x1_alt-x1:5.2f},{x2_alt-x2:5.2f})\\n'\n",
    "        line += f'income: $Z-Y$ = ({x1_new-x1_alt:5.2f},{x2_new-x2_alt:5.2f})\\n'\n",
    "        ax.text(0.55*x1_max,0.87*x2_max,line,backgroundcolor='white')\n",
    "    \n",
    "    # c. details\n",
    "    ax.set_xlim([0,x1_max])\n",
    "    ax.set_ylim([0,x2_max])\n",
    "\n",
    "    ax.legend(frameon=True,loc='right')\n",
    "\n",
    "    fig.tight_layout()\n",
    "    if not name is None:\n",
    "        fig.savefig(name)"
   ]
  },
  {
   "cell_type": "code",
   "execution_count": 7,
   "id": "economic-waterproof",
   "metadata": {},
   "outputs": [],
   "source": [
    "def plot_decomposition_endo(\n",
    "    method='Hicks',p1=1.0,p1_new=2.0,p2=1.0,w1=12.0,w2=8.0,alpha=0.5,beta=0.0,\n",
    "    steps=4,x1_max=25,x2_max=25,N=100,name=None):\n",
    "\n",
    "    fig = plt.figure(figsize=(6,6),dpi=100)\n",
    "    ax = fig.add_subplot(1,1,1)\n",
    "    \n",
    "    m = p1*w1+p2*w2\n",
    "    m_new = p1_new*w1+p2*w2\n",
    "\n",
    "    # a. calculations\n",
    "    X = maximize_utility(p1,p2,m,alpha,beta)\n",
    "    x1,x2,u_ast = X\n",
    "\n",
    "    Z1 = maximize_utility(p1_new,p2,m,alpha,beta)\n",
    "    x1_fixm,x2_fixm,u_ast_fixm = Z1\n",
    "\n",
    "    #Y = minimize_cost((x1,x2),u_ast,p1_new,p2,alpha,beta)\n",
    "    #x1_alt,x2_alt,m_alt = Y\n",
    "    \n",
    "    if method == 'Hicks':\n",
    "        Y = minimize_cost((x1,x2),u_ast,p1_new,p2,alpha,beta)\n",
    "        x1_alt,x2_alt,m_alt = Y\n",
    "    else:\n",
    "        m_alt = p1_new*x1 + p2*x2\n",
    "        Y = maximize_utility(p1_new,p2,m_alt,alpha,beta)\n",
    "        x1_alt,x2_alt,u_ast_alt = Y\n",
    "        \n",
    "    Z2 = maximize_utility(p1_new,p2,m_new,alpha,beta)\n",
    "    x1_new,x2_new,u_ast_new = Z2\n",
    "\n",
    "    # b. plots\n",
    "    ax.plot(w1,w2,'ro',label='endowment',color='black')    \n",
    "    ax.plot([0,m/p1],[m/p2,0],ls='-',label='original',color=colors[0])\n",
    "    if steps > 1:\n",
    "        ax.plot([0,m_new/p1_new],[m_new/p2,0],ls='-',label='final',color=colors[1])\n",
    "    if steps > 2:\n",
    "        ax.plot([0,m_alt/p1_new],[m_alt/p2,0],ls='-',label='compensated',color=colors[2])\n",
    "    if steps > 3:\n",
    "        ax.plot([0,m/p1_new],[m/p2,0],ls='-',label='constant income',color=colors[2])\n",
    "\n",
    "    # X\n",
    "    ax.plot(x1,x2,'ro',color='black')\n",
    "    ax.text(x1*1.015,x2*1.015,'$X$')\n",
    "    plot_indifference_curve(\n",
    "        ax,u_ast,alpha,beta,x1_max,x2_max,N,ls='--',color=colors[0]\n",
    "    )\n",
    "\n",
    "    # Y\n",
    "    if steps > 2:\n",
    "        \n",
    "        ax.plot(x1_alt,x2_alt,'ro',color='black')\n",
    "        ax.text(x1_alt*1.015,x2_alt*1.015,'$Y$')\n",
    "        \n",
    "        if not method == 'Hicks':\n",
    "            plot_indifference_curve(\n",
    "                ax,u_ast_alt,alpha,beta,x1_max,x2_max,N,ls='--',color=colors[2]\n",
    "            )        \n",
    "\n",
    "    # Z2\n",
    "    if steps > 1:\n",
    "        ax.plot(x1_new,x2_new,'ro',color='black')\n",
    "        ax.text(x1_new*1.02,x2_new*1.02,'$Z_2$')\n",
    "        plot_indifference_curve(\n",
    "            ax,u_ast_new,alpha,beta,x1_max,x2_max,N,ls='--',color=colors[1]\n",
    "        )\n",
    "\n",
    "    # Z1\n",
    "    if steps > 3:\n",
    "        ax.plot(x1_fixm,x2_fixm,'ro',color='black')\n",
    "        ax.text(x1_fixm*1.02,x2_fixm*1.02,f'$Z_1$')\n",
    "        plot_indifference_curve(\n",
    "            ax,u_ast_fixm,alpha,beta,x1_max,x2_max,N,ls='--',color=colors[3]\n",
    "        )\n",
    "    \n",
    "    if steps > 3:\n",
    "        line = f'subtitution: $Y-X$ = ({x1_alt-x1:5.2f},{x2_alt-x2:5.2f})\\n'\n",
    "        line += f'income: $Z_1-Y$ = ({x1_fixm-x1_alt:5.2f},{x2_fixm-x2_alt:5.2f})\\n'\n",
    "        line += f'wealth: $Z_2-Z_1$ = ({x1_new-x1_fixm:5.2f},{x2_new-x2_fixm:5.2f})'\n",
    "        ax.text(0.55*x1_max,0.87*x2_max,line,backgroundcolor='white')\n",
    "\n",
    "    # c. details\n",
    "    ax.set_xlim([0,x1_max])\n",
    "    ax.set_ylim([0,x2_max])\n",
    "    \n",
    "    ax.legend(frameon=True,loc='right')\n",
    "    fig.tight_layout()\n",
    "    \n",
    "    if not name is None:\n",
    "        fig.savefig(name)\n"
   ]
  },
  {
   "cell_type": "markdown",
   "id": "twenty-transfer",
   "metadata": {},
   "source": [
    "# Static"
   ]
  },
  {
   "cell_type": "code",
   "execution_count": 8,
   "id": "toxic-briefs",
   "metadata": {},
   "outputs": [],
   "source": [
    "for steps in [1,2,3]:\n",
    "    if DO_PRINT: plot_decomposition_exo(method='Slutsky',steps=steps,name=f'CobbDouglas_Slutsky_{steps}.pdf');"
   ]
  },
  {
   "cell_type": "code",
   "execution_count": 9,
   "id": "forbidden-width",
   "metadata": {},
   "outputs": [],
   "source": [
    "for steps in [1,2,3]:\n",
    "    if DO_PRINT: plot_decomposition_exo(method='Hicks',steps=steps,name=f'CobbDouglas_Hicks_{steps}.pdf');"
   ]
  },
  {
   "cell_type": "code",
   "execution_count": 10,
   "id": "mature-spokesman",
   "metadata": {},
   "outputs": [],
   "source": [
    "for steps in [1,2,3,4]:\n",
    "    if DO_PRINT: plot_decomposition_endo(steps=steps,name=f'CobbDouglas_Hicks_endo_{steps}.pdf');"
   ]
  },
  {
   "cell_type": "markdown",
   "id": "random-recall",
   "metadata": {},
   "source": [
    "# Interactive - exogenous income"
   ]
  },
  {
   "cell_type": "markdown",
   "id": "thick-september",
   "metadata": {},
   "source": [
    "$$\n",
    "u(x_1,x_2) = (\\alpha x_1^{-\\beta}+(1-\\alpha)x_2^{-\\beta})^{-1/\\beta}\n",
    "$$"
   ]
  },
  {
   "cell_type": "code",
   "execution_count": 11,
   "id": "narrative-frequency",
   "metadata": {},
   "outputs": [
    {
     "data": {
      "application/vnd.jupyter.widget-view+json": {
       "model_id": "0fad5f23d63f4fa69d607340c4721b11",
       "version_major": 2,
       "version_minor": 0
      },
      "text/plain": [
       "interactive(children=(RadioButtons(description='method:', options=('Slutsky', 'Hicks'), value='Slutsky'), Floa…"
      ]
     },
     "metadata": {},
     "output_type": "display_data"
    }
   ],
   "source": [
    "widgets.interact(lambda method,alpha,beta,p1_new,steps: \n",
    "                 plot_decomposition_exo(method=method,alpha=alpha,beta=beta,p1_new=p1_new,steps=steps),\n",
    "    method=widgets.RadioButtons(options=['Slutsky','Hicks'],description='method:',disabled=False),\n",
    "    alpha=widgets.FloatSlider(description=r'alpha',min=0.1, max=1.0, step=0.05, value=0.50), \n",
    "    beta=widgets.FloatSlider(description=r'beta',min=-0.95, max=5.0, step=0.05, value=0.0),                    \n",
    "    p1_new=widgets.FloatSlider(description=r'p1_new',min=0.1,max=5.0,step=0.05,value=2.0),\n",
    "    steps=widgets.IntSlider(description=r'step',min=1,max=3,value=3),\n",
    ");"
   ]
  },
  {
   "cell_type": "markdown",
   "id": "finished-virus",
   "metadata": {},
   "source": [
    "# Interactive - endogenous income"
   ]
  },
  {
   "cell_type": "markdown",
   "id": "senior-checkout",
   "metadata": {},
   "source": [
    "$$\n",
    "u(x_1,x_2) = (\\alpha x_1^{-\\beta}+(1-\\alpha)x_2^{-\\beta})^{-1/\\beta}\n",
    "$$"
   ]
  },
  {
   "cell_type": "code",
   "execution_count": 12,
   "id": "suffering-petroleum",
   "metadata": {},
   "outputs": [
    {
     "data": {
      "application/vnd.jupyter.widget-view+json": {
       "model_id": "c29b974531ea4398b18a131f005ad60f",
       "version_major": 2,
       "version_minor": 0
      },
      "text/plain": [
       "interactive(children=(RadioButtons(description='method:', options=('Slutsky', 'Hicks'), value='Slutsky'), Floa…"
      ]
     },
     "metadata": {},
     "output_type": "display_data"
    }
   ],
   "source": [
    "widgets.interact(lambda method,alpha,beta,p1_new,steps: \n",
    "                 plot_decomposition_endo(method=method,alpha=alpha,beta=beta,p1_new=p1_new,steps=steps),\n",
    "    method=widgets.RadioButtons(options=['Slutsky','Hicks'],description='method:',disabled=False),\n",
    "    alpha=widgets.FloatSlider(description=r'alpha',min=0.1, max=1.0, step=0.05, value=0.50), \n",
    "    beta=widgets.FloatSlider(description=r'beta',min=-0.95, max=5.0, step=0.05, value=0.0),                    \n",
    "    p1_new=widgets.FloatSlider(description=r'p1_new',min=0.1,max=5.0,step=0.05,value=2.0), \n",
    "    steps=widgets.IntSlider(description=r'step',min=1,max=4,value=4),                 \n",
    ");"
   ]
  }
 ],
 "metadata": {
  "kernelspec": {
   "display_name": "Python 3",
   "language": "python",
   "name": "python3"
  },
  "language_info": {
   "codemirror_mode": {
    "name": "ipython",
    "version": 3
   },
   "file_extension": ".py",
   "mimetype": "text/x-python",
   "name": "python",
   "nbconvert_exporter": "python",
   "pygments_lexer": "ipython3",
   "version": "3.8.8"
  }
 },
 "nbformat": 4,
 "nbformat_minor": 5
}
