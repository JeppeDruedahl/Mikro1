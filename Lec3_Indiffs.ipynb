{
 "cells": [
  {
   "cell_type": "markdown",
   "id": "grand-stake",
   "metadata": {},
   "source": [
    "**Imports:**"
   ]
  },
  {
   "cell_type": "code",
   "execution_count": 1,
   "id": "sudden-twins",
   "metadata": {},
   "outputs": [],
   "source": [
    "import numpy as np\n",
    "\n",
    "import matplotlib.pyplot as plt\n",
    "plt.style.use('seaborn-whitegrid')\n",
    "prop_cycle = plt.rcParams['axes.prop_cycle']\n",
    "colors = prop_cycle.by_key()['color']\n",
    "\n",
    "import ipywidgets as widgets"
   ]
  },
  {
   "cell_type": "markdown",
   "id": "metropolitan-release",
   "metadata": {},
   "source": [
    "# Plotting function"
   ]
  },
  {
   "cell_type": "markdown",
   "id": "angry-passport",
   "metadata": {},
   "source": [
    "$$\n",
    "u(x_1,x_2;\\alpha,\\beta) = u_0 = u(y_0,y_1)\n",
    "$$"
   ]
  },
  {
   "cell_type": "code",
   "execution_count": 2,
   "id": "lyric-patient",
   "metadata": {},
   "outputs": [],
   "source": [
    "def find_indifference_curve(preferences='Cobb-Douglas',alpha=0.5,beta=0.5,y=0.5,x1_max=10,x2_max=10,N=100):\n",
    "            \n",
    "    # a. select preferences\n",
    "    if preferences == 'additive_crra' and np.isclose(alpha,1.0):\n",
    "        preferences = 'additive_log'\n",
    "        \n",
    "    if preferences == 'cobb_douglas':\n",
    "        \n",
    "        utility_func = lambda x1,x2,alpha,beta: x1**alpha*x2**beta\n",
    "        indiff_func_x1 = lambda u0,x1,alpha,beta: (u0/x1**alpha) ** (1/beta)\n",
    "        indiff_func_x2 = lambda u0,x2,alpha,beta: (u0/x2**beta) ** (1/alpha)\n",
    "\n",
    "    elif preferences == \"ces\":\n",
    "\n",
    "        if beta == 0:\n",
    "\n",
    "            utility_func = x1**alpha*x2**(1-alpha)\n",
    "            indiff_func_x1 = (u0/x1**alpha)**(1/(1-alpha))\n",
    "            indiff_func_x2 = (u0/x2*(1-alpha))**(1/alpha)\n",
    "\n",
    "        else:\n",
    "            utility_func = lambda x1,x2,alpha,beta: (alpha*x1**(-beta)+(1-alpha)*x2**(-beta))**(-1/beta)\n",
    "            indiff_func_x1 = lambda u0,x1,alpha,beta: ((u0**(-beta)-alpha*x1**(-beta))/(1-alpha))**(-1/beta)\n",
    "            indiff_func_x2 = lambda u0,x2,alpha,beta: ((u0**(-beta)-(1-alpha)*x2**(-beta))/alpha)**(-1/beta)\n",
    "\n",
    "    elif preferences == \"perfect_substitutes\":\n",
    "\n",
    "        utility_func = lambda x1,x2,alpha,beta: alpha*x1+beta*x2\n",
    "        indiff_func_x1 = lambda u0,x1,alpha,beta: (u0-alpha*x1)/beta\n",
    "        indiff_func_x2 = lambda u0,x2,alpha,beta: (u0-beta*x2)/alpha\n",
    "\n",
    "    elif preferences == \"quasi_sqrt\":\n",
    "\n",
    "        utility_func = lambda x1,x2,alpha,beta: alpha*np.sqrt(x1)+x2*beta\n",
    "        indiff_func_x1 = lambda u0,x1,alpha,beta: (u0-alpha*np.sqrt(x1))/beta\n",
    "        indiff_func_x2 = lambda u0,x2,alpha,beta: ((np.fmax(u0-x2*beta,0))/alpha)**2\n",
    "\n",
    "    elif preferences == \"quasi_log\":\n",
    "\n",
    "        utility_func = lambda x1,x2,alpha,beta: alpha*np.log(x1)+x2*beta\n",
    "        indiff_func_x1 = lambda u0,x1,alpha,beta: (u0-alpha*np.log(x1))/beta\n",
    "        indiff_func_x2 = lambda u0,x2,alpha,beta: np.exp((u0-x2*beta)/alpha)\n",
    "\n",
    "    elif preferences == \"additive_log\":\n",
    "\n",
    "        utility_func = lambda x1,x2,alpha,beta: np.log(x1)+beta*np.log(x2)\n",
    "        indiff_func_x1 = lambda u0,x1,alpha,beta: np.exp((u0-np.log(x1))/beta)\n",
    "        indiff_func_x2 = lambda u0,x2,alpha,beta: np.exp((u0-beta*np.log(x2)))\n",
    "\n",
    "    elif preferences == \"additive_crra\":\n",
    "\n",
    "        utility_func = lambda x1,x2,alpha,beta: x1**(1-alpha)/(1-alpha)+beta*x2**(1-alpha)/(1-alpha)\n",
    "        indiff_func_x1 = lambda u0,x1,alpha,beta: (((1-alpha)*u0-x1**(1-alpha))/beta)**(1/(1-alpha))\n",
    "        indiff_func_x2 = lambda u0,x2,alpha,beta: ((1-alpha)*u0-beta*x2**(1-alpha))**(1/(1-alpha))\n",
    "\n",
    "    elif preferences == \"concave\":\n",
    "\n",
    "        utility_func = lambda x1,x2,alpha,beta: alpha*x1**2+beta*x2**2\n",
    "        indiff_func_x1 = lambda u0,x1,alpha,beta: np.sqrt((u0-alpha*x1**2)/beta)\n",
    "        indiff_func_x2 = lambda u0,x2,alpha,beta: np.sqrt((u0-beta*x2**2)/alpha)\n",
    "\n",
    "    else:\n",
    "\n",
    "        raise ValueError(f'unknown preferences, {preferences}')\n",
    "\n",
    "    u0 = utility_func(y[0],y[0],alpha,beta)\n",
    "    \n",
    "    # b. fix x1\n",
    "    x1_x1 = np.linspace(0,x1_max,N)\n",
    "    with np.errstate(divide=\"ignore\", invalid=\"ignore\"):\n",
    "        x2_x1 = indiff_func_x1(u0,x1_x1,alpha,beta)\n",
    "\n",
    "    # c. fix x2\n",
    "    x2_x2 = np.linspace(0,x2_max,N)\n",
    "    with np.errstate(divide=\"ignore\", invalid=\"ignore\"):\n",
    "        x1_x2 = indiff_func_x2(u0,x2_x2, alpha, beta)\n",
    "\n",
    "    # d. combine\n",
    "    x1 = np.hstack([x1_x1, x1_x2])\n",
    "    x2 = np.hstack([x2_x1, x2_x2])\n",
    "\n",
    "    # e. clean\n",
    "    with np.errstate(divide=\"ignore\", invalid=\"ignore\"):\n",
    "        u0s = utility_func(x1,x2,alpha,beta)\n",
    "        \n",
    "    I = np.isclose(u0s, u0)\n",
    "    x1 = x1[I]\n",
    "    x2 = x2[I]\n",
    "\n",
    "    I = (x1 >= 0) & (x2 >= 0)\n",
    "    x1 = x1[I]\n",
    "    x2 = x2[I]\n",
    "\n",
    "    # e. sort\n",
    "    I = np.argsort(x1)\n",
    "    x1 = x1[I]\n",
    "    x2 = x2[I]\n",
    "\n",
    "    return x1,x2,u0\n"
   ]
  },
  {
   "cell_type": "code",
   "execution_count": 3,
   "id": "incomplete-stuart",
   "metadata": {},
   "outputs": [],
   "source": [
    "def plot_indifference_curves(preferences,alpha,beta):\n",
    "    \n",
    "    # a. create figure\n",
    "    fig = plt.figure(figsize=(6,6),dpi=100)\n",
    "    ax = fig.add_subplot(1,1,1)\n",
    "    \n",
    "    # b. construct and plot indifference curves\n",
    "    x1_max = 10\n",
    "    x2_max = 10\n",
    "    N = 100\n",
    "    ys = [(2,2),(4,4),(6,6)]\n",
    "    for i,y in enumerate(ys):\n",
    "\n",
    "        if preferences == \"saturated\":\n",
    "            \n",
    "            u0 = -(y[0]-alpha)**2 - (y[1]-beta)**2\n",
    "            radius = np.sqrt(-u0)\n",
    "            circle = plt.Circle(\n",
    "                (alpha, beta),\n",
    "                radius,\n",
    "                fill=False,\n",
    "                color=colors[i],\n",
    "            )\n",
    "            ax.add_artist(circle)\n",
    "            \n",
    "        elif preferences == 'perfect_complements':\n",
    "            \n",
    "            u0 = np.fmin(alpha*y[0],beta*y[1])\n",
    "            \n",
    "            ax.plot([u0/alpha,u0/alpha],[u0/beta,x2_max],color=colors[i])\n",
    "            ax.plot([u0/alpha,x1_max],[u0/beta,u0/beta],color=colors[i])\n",
    "            \n",
    "        else:\n",
    "            \n",
    "            x1,x2,u0 = find_indifference_curve(preferences,alpha,beta,y,x1_max=x1_max,x2_max=x2_max,N=N)\n",
    "            ax.plot(x1, x2, label=f\"$u = {u0:.2f}$\")\n",
    "        \n",
    "        ax.scatter(y[0],y[1])\n",
    "        ax.set_xlabel('$x_1$')\n",
    "        ax.set_ylabel('$x_2$')\n",
    "        ax.set_xlim([0,x1_max])\n",
    "        ax.set_ylim([0,x2_max])\n",
    "    "
   ]
  },
  {
   "cell_type": "markdown",
   "id": "moderate-cream",
   "metadata": {},
   "source": [
    "# Interactive: Cobb-Douglas"
   ]
  },
  {
   "cell_type": "markdown",
   "id": "employed-fleece",
   "metadata": {},
   "source": [
    "$$\n",
    "u(x_1,x_2) = x_1^{\\alpha}x_2^{\\beta}\n",
    "$$"
   ]
  },
  {
   "cell_type": "code",
   "execution_count": 4,
   "id": "herbal-economics",
   "metadata": {},
   "outputs": [
    {
     "data": {
      "application/vnd.jupyter.widget-view+json": {
       "model_id": "ddd02d4f7869449c837074714860a155",
       "version_major": 2,
       "version_minor": 0
      },
      "text/plain": [
       "interactive(children=(FloatSlider(value=0.5, description='alpha', max=2.0, min=0.05, step=0.05), FloatSlider(v…"
      ]
     },
     "metadata": {},
     "output_type": "display_data"
    }
   ],
   "source": [
    "widgets.interact(lambda alpha,beta: plot_indifference_curves('cobb_douglas',alpha,beta),\n",
    "    alpha=widgets.FloatSlider(description=r'alpha',min=0.05,max=2.0,step=0.05,value=0.5), \n",
    "    beta=widgets.FloatSlider(description=r'beta',min=0.05,max=2.0,step=0.05,value=0.5),\n",
    ");"
   ]
  },
  {
   "cell_type": "markdown",
   "id": "sensitive-camcorder",
   "metadata": {},
   "source": [
    "# Interactive: Constant Elasticity of Substitution (CES)"
   ]
  },
  {
   "cell_type": "markdown",
   "id": "qualified-territory",
   "metadata": {},
   "source": [
    "$$\n",
    "u(x_1,x_2) = (\\alpha x_1^{-\\beta}+(1-\\alpha)x_2^{-\\beta})^{-1/\\beta}\n",
    "$$"
   ]
  },
  {
   "cell_type": "code",
   "execution_count": 5,
   "id": "referenced-concentration",
   "metadata": {},
   "outputs": [
    {
     "data": {
      "application/vnd.jupyter.widget-view+json": {
       "model_id": "2b750f962ea6425aaaba507439271362",
       "version_major": 2,
       "version_minor": 0
      },
      "text/plain": [
       "interactive(children=(FloatSlider(value=0.5, description='alpha', max=1.0, step=0.05), FloatSlider(value=0.5, …"
      ]
     },
     "metadata": {},
     "output_type": "display_data"
    }
   ],
   "source": [
    "widgets.interact(lambda alpha,beta: plot_indifference_curves('ces',alpha,beta),\n",
    "        alpha=widgets.FloatSlider(description=r'alpha',min=0.0, max=1.0,step=0.05,value=0.5),\n",
    "        beta=widgets.FloatSlider(description=r'beta',min=-0.95, max=20.0,step=0.05,value=0.5),\n",
    ");"
   ]
  },
  {
   "cell_type": "markdown",
   "id": "individual-recycling",
   "metadata": {},
   "source": [
    "# Interactive: Perfect substitutes"
   ]
  },
  {
   "cell_type": "markdown",
   "id": "opponent-cisco",
   "metadata": {},
   "source": [
    "$$\n",
    "u(x_1,x_2) = \\alpha x_1 + \\beta x_2\n",
    "$$"
   ]
  },
  {
   "cell_type": "code",
   "execution_count": 6,
   "id": "center-storage",
   "metadata": {},
   "outputs": [
    {
     "data": {
      "application/vnd.jupyter.widget-view+json": {
       "model_id": "cfb2a060bd9b462aa75689527089675f",
       "version_major": 2,
       "version_minor": 0
      },
      "text/plain": [
       "interactive(children=(FloatSlider(value=0.5, description='alpha', max=1.0, min=0.1, step=0.05), FloatSlider(va…"
      ]
     },
     "metadata": {},
     "output_type": "display_data"
    }
   ],
   "source": [
    "widgets.interact(lambda alpha,beta: plot_indifference_curves('perfect_substitutes',alpha,beta),\n",
    "    alpha=widgets.FloatSlider(description=r'alpha',min=0.1,max=1.0,step=0.05,value=0.5), \n",
    "    beta=widgets.FloatSlider(description=r'beta',min=0.1,max=1.0,step=0.05,value=0.5),\n",
    ");"
   ]
  },
  {
   "cell_type": "markdown",
   "id": "described-watts",
   "metadata": {},
   "source": [
    "# Interactive: Perfect complements"
   ]
  },
  {
   "cell_type": "markdown",
   "id": "desirable-empire",
   "metadata": {},
   "source": [
    "$$\n",
    "u(x_1,x_2) = \\min{\\{\\alpha x_1,\\beta x_2}\\}\n",
    "$$"
   ]
  },
  {
   "cell_type": "code",
   "execution_count": 7,
   "id": "postal-ranking",
   "metadata": {},
   "outputs": [
    {
     "data": {
      "application/vnd.jupyter.widget-view+json": {
       "model_id": "7df2a52556674ced8675026132b0bbd5",
       "version_major": 2,
       "version_minor": 0
      },
      "text/plain": [
       "interactive(children=(FloatSlider(value=0.5, description='alpha', max=1.0, min=0.1, step=0.05), FloatSlider(va…"
      ]
     },
     "metadata": {},
     "output_type": "display_data"
    }
   ],
   "source": [
    "widgets.interact(lambda alpha,beta: plot_indifference_curves('perfect_complements',alpha,beta),\n",
    "    alpha=widgets.FloatSlider(description=r'alpha',min=0.1,max=1.0,step=0.05,value=0.5), \n",
    "    beta=widgets.FloatSlider(description=r'beta',min=0.1,max=1.0,step=0.05,value=0.5),\n",
    ");"
   ]
  },
  {
   "cell_type": "markdown",
   "id": "municipal-argentina",
   "metadata": {},
   "source": [
    "# Interactive: Quasi-linear (log)"
   ]
  },
  {
   "cell_type": "markdown",
   "id": "divided-router",
   "metadata": {},
   "source": [
    "$$\n",
    "u(x_1,x_2) = \\alpha\\log(x_1) + \\beta x_2\n",
    "$$"
   ]
  },
  {
   "cell_type": "code",
   "execution_count": 8,
   "id": "assumed-pottery",
   "metadata": {},
   "outputs": [
    {
     "data": {
      "application/vnd.jupyter.widget-view+json": {
       "model_id": "b3b35b2cd7e04e9e95c7d869a8c45fab",
       "version_major": 2,
       "version_minor": 0
      },
      "text/plain": [
       "interactive(children=(FloatSlider(value=0.5, description='alpha', max=5.0, min=0.1, step=0.05), FloatSlider(va…"
      ]
     },
     "metadata": {},
     "output_type": "display_data"
    }
   ],
   "source": [
    "widgets.interact(lambda alpha,beta: plot_indifference_curves('quasi_log',alpha,beta),\n",
    "    alpha=widgets.FloatSlider(description=r'alpha',min=0.1,max=5.0,step=0.05,value=0.5), \n",
    "    beta=widgets.FloatSlider(description=r'beta',min=0.1,max=5.0,step=0.05,value=0.5),\n",
    ");"
   ]
  },
  {
   "cell_type": "markdown",
   "id": "south-direction",
   "metadata": {},
   "source": [
    "# Interactive: Quasi-linear (sqrt)"
   ]
  },
  {
   "cell_type": "markdown",
   "id": "employed-light",
   "metadata": {},
   "source": [
    "$$\n",
    "u(x_1,x_2) = \\alpha\\sqrt{x_1} + \\beta x_2\n",
    "$$"
   ]
  },
  {
   "cell_type": "code",
   "execution_count": 9,
   "id": "sunrise-novelty",
   "metadata": {},
   "outputs": [
    {
     "data": {
      "application/vnd.jupyter.widget-view+json": {
       "model_id": "fd55fce2049c4b049ea7f06ca26266f5",
       "version_major": 2,
       "version_minor": 0
      },
      "text/plain": [
       "interactive(children=(FloatSlider(value=0.5, description='alpha', max=5.0, min=0.1, step=0.05), FloatSlider(va…"
      ]
     },
     "metadata": {},
     "output_type": "display_data"
    }
   ],
   "source": [
    "widgets.interact(lambda alpha,beta: plot_indifference_curves('quasi_sqrt',alpha,beta),\n",
    "    alpha=widgets.FloatSlider(description=r'alpha',min=0.1,max=5.0,step=0.05,value=0.5), \n",
    "    beta=widgets.FloatSlider(description=r'beta',min=0.1,max=5.0,step=0.05,value=0.5),\n",
    ");"
   ]
  },
  {
   "cell_type": "markdown",
   "id": "practical-maple",
   "metadata": {},
   "source": [
    "# Interactive: Time-seperable with log"
   ]
  },
  {
   "cell_type": "markdown",
   "id": "assured-audience",
   "metadata": {},
   "source": [
    "$$\n",
    "u(x_1,x_2) = \\log (x_1) + \\beta \\log(x_2)\n",
    "$$"
   ]
  },
  {
   "cell_type": "code",
   "execution_count": 10,
   "id": "controlled-newark",
   "metadata": {},
   "outputs": [
    {
     "data": {
      "application/vnd.jupyter.widget-view+json": {
       "model_id": "5f2193f6d1344b50a593a67dd9e5cba7",
       "version_major": 2,
       "version_minor": 0
      },
      "text/plain": [
       "interactive(children=(FloatSlider(value=0.5, description='beta', max=1.0, min=0.1, step=0.05), Output()), _dom…"
      ]
     },
     "metadata": {},
     "output_type": "display_data"
    }
   ],
   "source": [
    "widgets.interact(lambda beta: plot_indifference_curves('additive_log',None,beta),\n",
    "    beta=widgets.FloatSlider(description=r'beta',min=0.1,max=1.0,step=0.05,value=0.5),\n",
    ");"
   ]
  },
  {
   "cell_type": "markdown",
   "id": "floppy-chocolate",
   "metadata": {},
   "source": [
    "# Interactive: Time-seperable with CRRA"
   ]
  },
  {
   "cell_type": "markdown",
   "id": "strategic-separation",
   "metadata": {},
   "source": [
    "$$\n",
    "u(x_1,x_2) = \\frac{x_1^{1-\\alpha}}{1-\\alpha} + \\beta \\frac{x_2^{1-\\alpha}}{1-\\alpha}\n",
    "$$"
   ]
  },
  {
   "cell_type": "code",
   "execution_count": 11,
   "id": "rational-wireless",
   "metadata": {},
   "outputs": [
    {
     "data": {
      "application/vnd.jupyter.widget-view+json": {
       "model_id": "e34c588efc0544bd82d9eeda013893a4",
       "version_major": 2,
       "version_minor": 0
      },
      "text/plain": [
       "interactive(children=(FloatSlider(value=2.0, description='alpha', max=4.0, min=0.1, step=0.05), FloatSlider(va…"
      ]
     },
     "metadata": {},
     "output_type": "display_data"
    }
   ],
   "source": [
    "widgets.interact(lambda alpha,beta: plot_indifference_curves('additive_crra',alpha,beta),\n",
    "    alpha=widgets.FloatSlider(description=r'alpha',min=0.1,max=4.0,step=0.05,value=2.0), \n",
    "    beta=widgets.FloatSlider(description=r'beta',min=0.1,max=1.0,step=0.05,value=0.5),\n",
    ");"
   ]
  },
  {
   "cell_type": "markdown",
   "id": "incoming-pepper",
   "metadata": {},
   "source": [
    "# Interactive: Concave"
   ]
  },
  {
   "cell_type": "markdown",
   "id": "monetary-rochester",
   "metadata": {},
   "source": [
    "$$\n",
    "u(x_1,x_2) = \\alpha x_1^2 + \\beta x_2^2\n",
    "$$"
   ]
  },
  {
   "cell_type": "code",
   "execution_count": 12,
   "id": "short-municipality",
   "metadata": {},
   "outputs": [
    {
     "data": {
      "application/vnd.jupyter.widget-view+json": {
       "model_id": "504c54d43041403082a4e358814fc208",
       "version_major": 2,
       "version_minor": 0
      },
      "text/plain": [
       "interactive(children=(FloatSlider(value=0.5, description='alpha', max=5.0, min=0.1, step=0.05), FloatSlider(va…"
      ]
     },
     "metadata": {},
     "output_type": "display_data"
    }
   ],
   "source": [
    "widgets.interact(lambda alpha,beta: plot_indifference_curves('concave',alpha,beta),\n",
    "    alpha=widgets.FloatSlider(description=r'alpha',min=0.1,max=5.0,step=0.05,value=0.5), \n",
    "    beta=widgets.FloatSlider(description=r'beta',min=0.1,max=5.0,step=0.05,value=0.5),\n",
    ");"
   ]
  },
  {
   "cell_type": "markdown",
   "id": "domestic-refund",
   "metadata": {},
   "source": [
    "# Interactive: Saturated (non-montone)"
   ]
  },
  {
   "cell_type": "markdown",
   "id": "addressed-partner",
   "metadata": {},
   "source": [
    "$$\n",
    "u(x_1,x_2) = -(x_1-\\alpha)^2 - (x_2-\\beta)^2\n",
    "$$"
   ]
  },
  {
   "cell_type": "code",
   "execution_count": 13,
   "id": "interstate-freeze",
   "metadata": {},
   "outputs": [
    {
     "data": {
      "application/vnd.jupyter.widget-view+json": {
       "model_id": "db74480afa86455cac62ab63d62dcbf9",
       "version_major": 2,
       "version_minor": 0
      },
      "text/plain": [
       "interactive(children=(FloatSlider(value=5.0, description='alpha', max=10.0, min=0.1, step=0.05), FloatSlider(v…"
      ]
     },
     "metadata": {},
     "output_type": "display_data"
    }
   ],
   "source": [
    "widgets.interact(lambda alpha,beta: plot_indifference_curves('saturated',alpha,beta),\n",
    "    alpha=widgets.FloatSlider(description=r'alpha',min=0.1, max=10.0,step=0.05,value=5.0), \n",
    "    beta=widgets.FloatSlider(description=r'beta',min=0.1, max=10.0,step=0.05,value=4.0),\n",
    ");"
   ]
  }
 ],
 "metadata": {
  "kernelspec": {
   "display_name": "Python 3",
   "language": "python",
   "name": "python3"
  },
  "language_info": {
   "codemirror_mode": {
    "name": "ipython",
    "version": 3
   },
   "file_extension": ".py",
   "mimetype": "text/x-python",
   "name": "python",
   "nbconvert_exporter": "python",
   "pygments_lexer": "ipython3",
   "version": "3.8.8"
  }
 },
 "nbformat": 4,
 "nbformat_minor": 5
}
