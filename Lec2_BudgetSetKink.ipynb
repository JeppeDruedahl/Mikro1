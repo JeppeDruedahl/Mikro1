{
 "cells": [
  {
   "cell_type": "markdown",
   "id": "organizational-prescription",
   "metadata": {},
   "source": [
    "**Imports:**"
   ]
  },
  {
   "cell_type": "code",
   "execution_count": 1,
   "id": "forty-snake",
   "metadata": {},
   "outputs": [],
   "source": [
    "import numpy as np\n",
    "\n",
    "import matplotlib.pyplot as plt\n",
    "plt.style.use('seaborn-whitegrid')\n",
    "prop_cycle = plt.rcParams['axes.prop_cycle']\n",
    "colors = prop_cycle.by_key()['color']\n",
    "\n",
    "import ipywidgets as widgets"
   ]
  },
  {
   "cell_type": "markdown",
   "id": "elect-vector",
   "metadata": {},
   "source": [
    "# Plotting function"
   ]
  },
  {
   "cell_type": "markdown",
   "id": "respective-baker",
   "metadata": {},
   "source": [
    "$$\n",
    "\\mathcal{B}(p_1,p_2,t,\\overline{x}_1,m)=\\left\\{ (x_{1},x_{2})\\in\\mathbb{R}_{+}^{2}\\,|\\,\\begin{cases}\n",
    "p_{1}x_{1}+p_{2}x_{2}=m & \\text{hvis }x_{1}\\leq\\overline{x}_{1}\\\\\n",
    "p_{1}\\overline{x}_{1}+(p_{1}+t)(x_{1}-\\overline{x}_{1})+p_{2}x_{2}=m & \\text{hvis }x_{1}>\\overline{x}_{1}\n",
    "\\end{cases}\\right\\} \n",
    "$$"
   ]
  },
  {
   "cell_type": "code",
   "execution_count": 2,
   "id": "alert-comparison",
   "metadata": {},
   "outputs": [],
   "source": [
    "def plot_budgetset(p1,p2,t,x1bar,m,x1_max=10,x2_max=10,name=None):\n",
    "    \n",
    "    # a. figure\n",
    "    fig = plt.figure(figsize=(6,6),dpi=100)\n",
    "    ax = fig.add_subplot(1,1,1)\n",
    "    \n",
    "    # fill\n",
    "    x = [0,0,x1bar,x1bar+(m-p1*x1bar)/(p1+t)]\n",
    "    y = [0,m/p2,(m-p1*x1bar)/p2,0]    \n",
    "    ax.fill(x,y,alpha=0.80)\n",
    "    \n",
    "    # line\n",
    "    x = [0,x1bar,x1bar+(m-p1*x1bar)/(p1+t)]\n",
    "    y = [m/p2,(m-p1*x1bar)/p2,0]     \n",
    "    ax.plot(x,y,color='black')\n",
    "                  \n",
    "    # details\n",
    "    ax.set_xlabel('$x_1$')\n",
    "    ax.set_ylabel('$x_2$')\n",
    "    ax.set_xlim([0,x1_max])\n",
    "    ax.set_ylim([0,x2_max])\n",
    "    \n",
    "    # save\n",
    "    if not name is None: fig.savefig(name)\n",
    "    "
   ]
  },
  {
   "cell_type": "markdown",
   "id": "czech-davis",
   "metadata": {},
   "source": [
    "# Static"
   ]
  },
  {
   "cell_type": "code",
   "execution_count": 3,
   "id": "hawaiian-integration",
   "metadata": {},
   "outputs": [
    {
     "data": {
      "image/png": "[encoded data removed]",
      "text/plain": [
       "<Figure size 600x600 with 1 Axes>"
      ]
     },
     "metadata": {},
     "output_type": "display_data"
    }
   ],
   "source": [
    "plot_budgetset(p1=1.0,p2=1.0,t=1.0,x1bar=2.0,m=6.0)"
   ]
  },
  {
   "cell_type": "markdown",
   "id": "peaceful-hunter",
   "metadata": {},
   "source": [
    "# Interactive"
   ]
  },
  {
   "cell_type": "code",
   "execution_count": 4,
   "id": "mental-extent",
   "metadata": {},
   "outputs": [
    {
     "data": {
      "application/vnd.jupyter.widget-view+json": {
       "model_id": "daeb31b997404b38970519c41d439249",
       "version_major": 2,
       "version_minor": 0
      },
      "text/plain": [
       "interactive(children=(FloatSlider(value=1.0, description='p1', max=5.0, min=0.1, step=0.05), FloatSlider(value…"
      ]
     },
     "metadata": {},
     "output_type": "display_data"
    }
   ],
   "source": [
    "widgets.interact(lambda p1,p2,t,x1bar,m: plot_budgetset(p1=p1,p2=p2,t=t,x1bar=x1bar,m=m),\n",
    "    p1=widgets.FloatSlider(description=r'p1',min=0.1,max=5.0,step=0.05,value=1.0), \n",
    "    p2=widgets.FloatSlider(description=r'p2',min=0.1,max=5.0,step=0.05,value=1.0),\n",
    "    t=widgets.FloatSlider(description=r't',min=-1.0,max=5.0,step=0.05,value=1.0),               \n",
    "    x1bar=widgets.FloatSlider(description=r'x1bar',min=0.1,max=5.0,step=0.05,value=2.0),                 \n",
    "    m=widgets.FloatSlider(description=r'm',min=0.1, max=10.0,step=0.05,value=6.0)\n",
    ");"
   ]
  }
 ],
 "metadata": {
  "kernelspec": {
   "display_name": "Python 3",
   "language": "python",
   "name": "python3"
  },
  "language_info": {
   "codemirror_mode": {
    "name": "ipython",
    "version": 3
   },
   "file_extension": ".py",
   "mimetype": "text/x-python",
   "name": "python",
   "nbconvert_exporter": "python",
   "pygments_lexer": "ipython3",
   "version": "3.8.8"
  },
  "toc-autonumbering": true
 },
 "nbformat": 4,
 "nbformat_minor": 5
}
