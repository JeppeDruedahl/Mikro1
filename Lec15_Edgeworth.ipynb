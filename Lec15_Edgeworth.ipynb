{
 "cells": [
  {
   "cell_type": "markdown",
   "id": "colored-wellington",
   "metadata": {},
   "source": [
    "**Imports:**"
   ]
  },
  {
   "cell_type": "code",
   "execution_count": 1,
   "id": "chubby-republican",
   "metadata": {},
   "outputs": [],
   "source": [
    "import numpy as np\n",
    "from types import SimpleNamespace\n",
    "import time\n",
    "\n",
    "import matplotlib.pyplot as plt\n",
    "plt.style.use('seaborn-whitegrid')\n",
    "prop_cycle = plt.rcParams['axes.prop_cycle']\n",
    "colors = prop_cycle.by_key()['color']\n",
    "\n",
    "from mpl_toolkits.mplot3d import Axes3D\n",
    "from mpl_toolkits.mplot3d.art3d import Poly3DCollection, Line3DCollection\n",
    "import ipywidgets as widgets\n",
    "\n",
    "DO_PRINT = False"
   ]
  },
  {
   "cell_type": "markdown",
   "id": "practical-radical",
   "metadata": {},
   "source": [
    "# Walras in Edgeworth with Cobb-Dogulas"
   ]
  },
  {
   "cell_type": "code",
   "execution_count": 2,
   "id": "quality-imperial",
   "metadata": {},
   "outputs": [
    {
     "data": {
      "application/vnd.jupyter.widget-view+json": {
       "model_id": "a4edaa1049284200971c8cb88b35da93",
       "version_major": 2,
       "version_minor": 0
      },
      "text/plain": [
       "interactive(children=(FloatSlider(value=1.0, description='p1', max=5.0, min=0.1, step=0.05), Output()), _dom_c…"
      ]
     },
     "metadata": {},
     "output_type": "display_data"
    }
   ],
   "source": [
    "def edgeworth_cobb_douglas(par,p1):\n",
    "    \n",
    "    # a. total endowment\n",
    "    w1bar = par.w1A + par.w1B\n",
    "    w2bar = par.w2A + par.w2B\n",
    "    \n",
    "    # b. figure set up\n",
    "    fig = plt.figure(frameon=False, figsize=(6, 6), dpi=100)\n",
    "    ax_A = fig.add_subplot(1, 1, 1)\n",
    "    \n",
    "    ax_A.set_xlabel(\"$x_1^A$\")\n",
    "    ax_A.set_ylabel(\"$x_2^A$\")\n",
    "\n",
    "    temp = ax_A.twinx()\n",
    "    temp.set_ylabel(\"$x_2^B$\")\n",
    "    ax_B = temp.twiny()\n",
    "    ax_B.set_xlabel(\"$x_1^B$\")\n",
    "    ax_B.invert_xaxis()\n",
    "    ax_B.invert_yaxis()\n",
    "    \n",
    "    # endowment\n",
    "    ax_A.scatter(par.w1A,par.w2A,color='black')\n",
    "    ax_A.text(par.w1A*1.05,par.w2A*1.05,f'endowment')\n",
    "    \n",
    "    # A\n",
    "    mA = p1*par.w1A + par.w2A \n",
    "    x1A = par.a*mA/p1\n",
    "    x2A = (1-par.a)*mA\n",
    "    ax_A.scatter(x1A,x2A,marker='*',color=colors[0])\n",
    "    ax_A.text(x1A*1.025,x2A*1.025,f'A',color=colors[0])\n",
    "    \n",
    "    x1A_vec = np.linspace(x1A*0.5,x1A*1.5,100)\n",
    "    u = x1A**par.a*x2A**(1-par.a)\n",
    "    ax_A.plot(x1A_vec,(u/x1A_vec**par.a)**(1/(1-par.a)),color=colors[0])\n",
    "    \n",
    "    # budgetline\n",
    "    ax_A.plot([0,w1bar],[par.w2A+p1*par.w1A,par.w2A-p1*(w1bar-par.w1A)],color='black')\n",
    "    \n",
    "    # B\n",
    "    mB = p1*par.w1B + par.w2B\n",
    "    x1B = par.b*mB/p1\n",
    "    x2B = (1-par.b)*mB\n",
    "    ax_B.scatter(x1B,x2B,marker='*',color=colors[1])\n",
    "    ax_B.text(x1B*1.07,x2B*1.07,f'B',color=colors[1])\n",
    "    \n",
    "    x1B_vec = np.linspace(x1B*0.5,x1B*1.5,100)\n",
    "    u = x1B**par.b*x2B**(1-par.b)\n",
    "    ax_B.plot(x1B_vec,(u/x1B_vec**par.b)**(1/(1-par.b)),color=colors[1])\n",
    "    \n",
    "    # limits\n",
    "    ax_A.plot([0,w1bar],[0,0],lw=2,color='black')\n",
    "    ax_A.plot([0,w1bar],[w2bar,w2bar],lw=2,color='black')\n",
    "    ax_A.plot([0,0],[0,w2bar],lw=2,color='black')\n",
    "    ax_A.plot([w1bar,w1bar],[0,w2bar],lw=2,color='black')\n",
    "    \n",
    "    ax_A.set_xlim([-0.1, w1bar + 0.1])\n",
    "    ax_A.set_ylim([-0.1, w2bar + 0.1])    \n",
    "    ax_B.set_xlim([w1bar + 0.1, -0.1])\n",
    "    ax_B.set_ylim([w2bar + 0.1, -0.1])\n",
    "    \n",
    "    fig.tight_layout()\n",
    "    \n",
    "# parameters\n",
    "par = SimpleNamespace()\n",
    "par.a = 0.5\n",
    "par.b = 0.5\n",
    "par.w1A = 0.7\n",
    "par.w2A = 1.5\n",
    "par.w1B = 1.3\n",
    "par.w2B = 0.5\n",
    "\n",
    "widgets.interact(lambda p1: edgeworth_cobb_douglas(par,p1),\n",
    "    p1=widgets.FloatSlider(description='p1',min=0.1,max=5.0,step=0.05,value=1.0), \n",
    ");"
   ]
  },
  {
   "cell_type": "code",
   "execution_count": 3,
   "id": "artistic-combining",
   "metadata": {},
   "outputs": [
    {
     "data": {
      "application/vnd.jupyter.widget-view+json": {
       "model_id": "65b9078d324c4637927c4914afaf6ea2",
       "version_major": 2,
       "version_minor": 0
      },
      "text/plain": [
       "interactive(children=(FloatSlider(value=1.0, description='p1', max=5.0, min=0.1, step=0.05), Output()), _dom_c…"
      ]
     },
     "metadata": {},
     "output_type": "display_data"
    }
   ],
   "source": [
    "par = SimpleNamespace()\n",
    "par.a = 0.5\n",
    "par.b = 0.5\n",
    "par.w1A = 0.5\n",
    "par.w2A = 1.5\n",
    "par.w1B = 1.5\n",
    "par.w2B = 0.5\n",
    "\n",
    "widgets.interact(lambda p1: edgeworth_cobb_douglas(par,p1),\n",
    "    p1=widgets.FloatSlider(description='p1',min=0.1,max=5.0,step=0.05,value=1.0), \n",
    ");"
   ]
  },
  {
   "cell_type": "markdown",
   "id": "appreciated-basket",
   "metadata": {},
   "source": [
    "# Pareto in Edgeworth with perfect substitutes and quasi-linear"
   ]
  },
  {
   "cell_type": "code",
   "execution_count": 4,
   "id": "interpreted-commander",
   "metadata": {},
   "outputs": [
    {
     "data": {
      "application/vnd.jupyter.widget-view+json": {
       "model_id": "114b6c3f1172490ba4d056ccbee42d29",
       "version_major": 2,
       "version_minor": 0
      },
      "text/plain": [
       "interactive(children=(FloatSlider(value=2.0, description='x1A', max=12.0, step=0.05), FloatSlider(value=3.0, d…"
      ]
     },
     "metadata": {},
     "output_type": "display_data"
    }
   ],
   "source": [
    "def edgeworth_pareto(par,x1A,x2A,name=None):\n",
    "    \n",
    "    # a. total endowment\n",
    "    w1bar = par.w1A + par.w1B\n",
    "    w2bar = par.w2A + par.w2B\n",
    "    \n",
    "    # b. figure set up\n",
    "    fig = plt.figure(frameon=False, figsize=(6, 6), dpi=100)\n",
    "    ax_A = fig.add_subplot(1, 1, 1)\n",
    "    \n",
    "    ax_A.set_xlabel(\"$x_1^A$\")\n",
    "    ax_A.set_ylabel(\"$x_2^A$\")\n",
    "\n",
    "    temp = ax_A.twinx()\n",
    "    temp.set_ylabel(\"$x_2^B$\")\n",
    "    ax_B = temp.twiny()\n",
    "    ax_B.set_xlabel(\"$x_1^B$\")\n",
    "    ax_B.invert_xaxis()\n",
    "    ax_B.invert_yaxis()\n",
    "    \n",
    "    # A\n",
    "    ax_A.scatter(x1A,x2A,marker='s',color='black',label='candidate point')\n",
    "    \n",
    "    x1_vec = np.linspace(1e-8,w1bar-1e-8,100)\n",
    "    \n",
    "    uA = x1A + x2A\n",
    "    x2A_vec = uA - x1_vec\n",
    "    ax_A.plot(x1_vec,x2A_vec,color=colors[0],label=\"A's indifference curve\")\n",
    "    ax_A.plot([],[],color=colors[1],label=\"B's indifference curve\")\n",
    "        \n",
    "    # B\n",
    "    x1B = w1bar-x1A\n",
    "    x2B = w2bar-x2A\n",
    "\n",
    "    uB = 4*np.log(x1B) + x2B\n",
    "    x2B_vec = uB - 4*np.log(x1_vec)\n",
    "    ax_B.plot(x1_vec,x2B_vec,color=colors[1])\n",
    "    \n",
    "    # cigar\n",
    "    x2B_vec_flip = w2bar - np.flip(x2B_vec)\n",
    "    I = x2B_vec_flip > x2A_vec\n",
    "    ax_A.fill_between(x1_vec[I],x2A_vec[I],x2B_vec_flip[I],color='black',alpha=0.25,label='Pareto-improvements')\n",
    "    \n",
    "    # limits\n",
    "    ax_A.plot([0,w1bar],[0,0],lw=2,color='black')\n",
    "    ax_A.plot([0,w1bar],[w2bar,w2bar],lw=2,color='black')\n",
    "    ax_A.plot([0,0],[0,w2bar],lw=2,color='black')\n",
    "    ax_A.plot([w1bar,w1bar],[0,w2bar],lw=2,color='black')\n",
    "    \n",
    "    ax_A.set_xlim([-0.1, w1bar + 0.1])\n",
    "    ax_A.set_ylim([-0.1, w2bar + 0.1])    \n",
    "    ax_B.set_xlim([w1bar + 0.1, -0.1])\n",
    "    ax_B.set_ylim([w2bar + 0.1, -0.1])\n",
    "    \n",
    "    ax_A.legend(frameon=True)\n",
    "    fig.tight_layout()\n",
    "    \n",
    "    if not name is None: fig.savefig(name)\n",
    "    \n",
    "# parameters\n",
    "par = SimpleNamespace()\n",
    "par.w1A = 6\n",
    "par.w2A = 6\n",
    "par.w1B = 6\n",
    "par.w2B = 6\n",
    "\n",
    "\n",
    "widgets.interact(lambda x1A,x2A: edgeworth_pareto(par,x1A,x2A),\n",
    "    x1A=widgets.FloatSlider(description='x1A',min=0.0,max=12.0,step=0.05,value=2.0), \n",
    "    x2A=widgets.FloatSlider(description='x2A',min=0.0,max=12.0,step=0.05,value=3.0), \n",
    ");"
   ]
  },
  {
   "cell_type": "code",
   "execution_count": 5,
   "id": "concrete-puppy",
   "metadata": {},
   "outputs": [],
   "source": [
    "if DO_PRINT:\n",
    "    \n",
    "    for (x1A,x2A) in [(0,2),(0,6),(0,10)] + [(4,0),(6,0),(8,0),(10,0)] + [(4,12),(6,12),(8,12),(10,12)] + [(4,4),(8,4),(4,8),(8,8)]:\n",
    "        edgeworth_pareto(par,x1A,x2A,name=f'contractcurve_{x1A}_{x2A}.pdf')\n",
    "        "
   ]
  },
  {
   "cell_type": "markdown",
   "id": "beginning-magnitude",
   "metadata": {},
   "source": [
    "# Algorithmic solution"
   ]
  },
  {
   "cell_type": "markdown",
   "id": "determined-gallery",
   "metadata": {},
   "source": [
    "**Algorithm:**"
   ]
  },
  {
   "cell_type": "code",
   "execution_count": 6,
   "id": "robust-audience",
   "metadata": {},
   "outputs": [],
   "source": [
    "def excess_demand_x1(p1,a,k):\n",
    "    \n",
    "    m = p1*k + 1\n",
    "    x1 = a*m/p1\n",
    "    z1 = x1-k\n",
    "    return z1\n",
    "\n",
    "def iterate(p1_guess,N=10000,mu_1=0.25,mu_2=0.75,k=5,eps=1e-8, kappa=0.1,maxiter=50):\n",
    "\n",
    "    # a. draw preferences\n",
    "    a = np.random.uniform(low=mu_1,high=mu_2,size=N)\n",
    "    \n",
    "    # b. iterate\n",
    "    t = 0\n",
    "    while True:\n",
    "    \n",
    "        if t == 0:\n",
    "            p1 = p1_guess\n",
    "        else:\n",
    "            p1 = p1 + kappa*z1/N\n",
    "    \n",
    "        z1 = np.sum(excess_demand_x1(p1,a,k))\n",
    "        print(f'{t:3d}: p1 = {p1:12.8f} -> z1 -> {z1:14.8f}')\n",
    "        time.sleep(1)\n",
    "        \n",
    "        if t >= maxiter or np.abs(z1) < eps:\n",
    "            break\n",
    "            \n",
    "        t += 1\n",
    "    "
   ]
  },
  {
   "cell_type": "markdown",
   "id": "fuzzy-exhibit",
   "metadata": {},
   "source": [
    "**Run:**"
   ]
  },
  {
   "cell_type": "code",
   "execution_count": 7,
   "id": "interesting-second",
   "metadata": {},
   "outputs": [
    {
     "name": "stdout",
     "output_type": "stream",
     "text": [
      "analytical result: p1 = 0.20000000\n",
      "  0: p1 =   0.24000000 -> z1 -> -4083.23277797\n",
      "  1: p1 =   0.19916767 -> z1 ->   195.68473568\n",
      "  2: p1 =   0.20112452 -> z1 ->   -49.01468856\n",
      "  3: p1 =   0.20063437 -> z1 ->    11.82903075\n",
      "  4: p1 =   0.20075266 -> z1 ->    -2.88197523\n",
      "  5: p1 =   0.20072384 -> z1 ->     0.70055472\n",
      "  6: p1 =   0.20073085 -> z1 ->    -0.17038650\n",
      "  7: p1 =   0.20072914 -> z1 ->     0.04143522\n",
      "  8: p1 =   0.20072956 -> z1 ->    -0.01007670\n",
      "  9: p1 =   0.20072946 -> z1 ->     0.00245055\n",
      " 10: p1 =   0.20072948 -> z1 ->    -0.00059595\n",
      " 11: p1 =   0.20072948 -> z1 ->     0.00014493\n",
      " 12: p1 =   0.20072948 -> z1 ->    -0.00003525\n",
      " 13: p1 =   0.20072948 -> z1 ->     0.00000857\n",
      " 14: p1 =   0.20072948 -> z1 ->    -0.00000208\n",
      " 15: p1 =   0.20072948 -> z1 ->     0.00000051\n",
      " 16: p1 =   0.20072948 -> z1 ->    -0.00000012\n",
      " 17: p1 =   0.20072948 -> z1 ->     0.00000003\n",
      " 18: p1 =   0.20072948 -> z1 ->    -0.00000001\n"
     ]
    }
   ],
   "source": [
    "# a. settings\n",
    "N = 10000\n",
    "mu_1 = 0.25\n",
    "mu_2 = 0.75\n",
    "k = 5\n",
    "eps = 1e-8\n",
    "kappa = 0.1\n",
    "p1_guess = 0.24\n",
    "\n",
    "# b. analytical solution\n",
    "mu = mu_1 + (mu_2-mu_1)/2\n",
    "p1_analytical = (mu/(1-mu))/k\n",
    "print(f'analytical result: p1 = {p1_analytical:.8f}')\n",
    "\n",
    "# c. algorithmic solution\n",
    "p1_guess = p1_analytical*1.2\n",
    "iterate(p1_guess,N,mu_1,mu_2,k,eps,kappa)"
   ]
  }
 ],
 "metadata": {
  "kernelspec": {
   "display_name": "Python 3 (ipykernel)",
   "language": "python",
   "name": "python3"
  },
  "language_info": {
   "codemirror_mode": {
    "name": "ipython",
    "version": 3
   },
   "file_extension": ".py",
   "mimetype": "text/x-python",
   "name": "python",
   "nbconvert_exporter": "python",
   "pygments_lexer": "ipython3",
   "version": "3.9.10"
  }
 },
 "nbformat": 4,
 "nbformat_minor": 5
}
