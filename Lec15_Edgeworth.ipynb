{
 "cells": [
  {
   "cell_type": "markdown",
   "id": "colored-wellington",
   "metadata": {},
   "source": [
    "**Imports:**"
   ]
  },
  {
   "cell_type": "code",
   "execution_count": 1,
   "id": "chubby-republican",
   "metadata": {},
   "outputs": [],
   "source": [
    "import numpy as np\n",
    "from types import SimpleNamespace\n",
    "import time\n",
    "\n",
    "import matplotlib.pyplot as plt   \n",
    "colors = plt.rcParams['axes.prop_cycle'].by_key()['color']\n",
    "plt.rcParams.update({\"axes.grid\" : True, \"grid.color\": \"black\", \"grid.alpha\":\"0.25\", \"grid.linestyle\": \"--\"})\n",
    "\n",
    "from mpl_toolkits.mplot3d import Axes3D\n",
    "from mpl_toolkits.mplot3d.art3d import Poly3DCollection, Line3DCollection\n",
    "import ipywidgets as widgets\n",
    "\n",
    "DO_PRINT = False"
   ]
  },
  {
   "cell_type": "markdown",
   "id": "appreciated-basket",
   "metadata": {},
   "source": [
    "# Pareto in Edgeworth"
   ]
  },
  {
   "cell_type": "code",
   "execution_count": 2,
   "id": "4691e395-0349-49b4-8edc-50a4f5a4bf0e",
   "metadata": {},
   "outputs": [],
   "source": [
    "def edgeworth_pareto(par,x1A,x2A,name=None):\n",
    "    \n",
    "    # a. total endowment\n",
    "    w1bar = par.w1A + par.w1B\n",
    "    w2bar = par.w2A + par.w2B\n",
    "    \n",
    "    # b. figure set up\n",
    "    fig = plt.figure(frameon=False, figsize=(6, 6), dpi=100)\n",
    "    ax_A = fig.add_subplot(1, 1, 1)\n",
    "    \n",
    "    ax_A.set_xlabel(\"$x_1^A$\")\n",
    "    ax_A.set_ylabel(\"$x_2^A$\")\n",
    "\n",
    "    temp = ax_A.twinx()\n",
    "    temp.set_ylabel(\"$x_2^B$\")\n",
    "    ax_B = temp.twiny()\n",
    "    ax_B.set_xlabel(\"$x_1^B$\")\n",
    "    ax_B.invert_xaxis()\n",
    "    ax_B.invert_yaxis()\n",
    "    \n",
    "    # A\n",
    "    ax_A.scatter(x1A,x2A,marker='s',color='black',label='candidate point')\n",
    "    \n",
    "    x1_vec = np.linspace(1e-8,w1bar-1e-8,100)\n",
    "    \n",
    "    if par.utility_A == 'perfect_substitutes':\n",
    "        \n",
    "        uA = par.alpha_A*x1A + par.beta_A*x2A\n",
    "        x2A_vec = (uA - par.alpha_A*x1_vec)/par.beta_A\n",
    "        \n",
    "    elif par.utility_A == 'cobb_douglas':\n",
    "        \n",
    "        uA = x1A**par.alpha_A*x2A**par.beta_A\n",
    "        x2A_vec = (uA/x1_vec**par.alpha_A)**(1/par.beta_A)\n",
    "        \n",
    "    elif par.utility_A == 'quasi_log':\n",
    "        \n",
    "        uA = par.alpha_A*np.log(x1A) + par.beta_A*x2A\n",
    "        x2A_vec = (uA-par.alpha_A*np.log(x1_vec))/par.beta_A        \n",
    "    \n",
    "    else:\n",
    "        \n",
    "        raise ValueError('unknown utility_A')\n",
    "    \n",
    "    ax_A.plot(x1_vec,x2A_vec,color=colors[0],label=\"A's indifference curve\")\n",
    "    ax_A.plot([],[],color=colors[1],label=\"B's indifference curve\")\n",
    "        \n",
    "    # B\n",
    "    x1B = w1bar-x1A\n",
    "    x2B = w2bar-x2A\n",
    "\n",
    "    if par.utility_B == 'perfect_substitutes':\n",
    "        \n",
    "        uB = par.alpha_B*x1B + par.beta_B*x2B\n",
    "        x2B_vec = (uB - par.alpha_B*x1_vec)/par.beta_B\n",
    "        \n",
    "    elif par.utility_B == 'cobb_douglas':\n",
    "        \n",
    "        uB = x1B**par.alpha_B*x2B**par.beta_B\n",
    "        x2B_vec = (uB/x1_vec**par.alpha_B)**(1/par.beta_B)\n",
    "        \n",
    "    elif par.utility_B == 'quasi_log':\n",
    "        \n",
    "        uB = par.alpha_B*np.log(x1B) + par.beta_B*x2B\n",
    "        x2B_vec = (uB-par.alpha_B*np.log(x1_vec))/par.beta_B        \n",
    "    \n",
    "    else:\n",
    "        \n",
    "        raise ValueError('unknown utility_A')\n",
    "        \n",
    "    ax_B.plot(x1_vec,x2B_vec,color=colors[1])\n",
    "    \n",
    "    # cigar\n",
    "    x2B_vec_flip = w2bar - np.flip(x2B_vec)\n",
    "    I = x2B_vec_flip > x2A_vec\n",
    "    ax_A.fill_between(x1_vec[I],x2A_vec[I],x2B_vec_flip[I],color='black',alpha=0.25,label='Pareto-improvements')\n",
    "    \n",
    "    # limits\n",
    "    ax_A.plot([0,w1bar],[0,0],lw=2,color='black')\n",
    "    ax_A.plot([0,w1bar],[w2bar,w2bar],lw=2,color='black')\n",
    "    ax_A.plot([0,0],[0,w2bar],lw=2,color='black')\n",
    "    ax_A.plot([w1bar,w1bar],[0,w2bar],lw=2,color='black')\n",
    "    \n",
    "    ax_A.set_xlim([-0.1, w1bar + 0.1])\n",
    "    ax_A.set_ylim([-0.1, w2bar + 0.1])    \n",
    "    ax_B.set_xlim([w1bar + 0.1, -0.1])\n",
    "    ax_B.set_ylim([w2bar + 0.1, -0.1])\n",
    "    \n",
    "    ax_A.legend(frameon=True)\n",
    "    fig.tight_layout()\n",
    "    \n",
    "    if not name is None: fig.savefig(name)\n",
    "    \n",
    "    plt.show()"
   ]
  },
  {
   "cell_type": "markdown",
   "id": "4b4d1edf-401f-4e40-a9a8-d935beebc665",
   "metadata": {},
   "source": [
    "## 2x Cobb-Douglas"
   ]
  },
  {
   "cell_type": "code",
   "execution_count": 3,
   "id": "120ee732-3aa2-49c9-b49d-9e4ea9eba741",
   "metadata": {},
   "outputs": [
    {
     "data": {
      "application/vnd.jupyter.widget-view+json": {
       "model_id": "26cc545fcc0f42c8a2b8c9b06f893d94",
       "version_major": 2,
       "version_minor": 0
      },
      "text/plain": [
       "interactive(children=(FloatSlider(value=2.0, description='x1A', max=12.0, step=0.05), FloatSlider(value=3.0, d…"
      ]
     },
     "metadata": {},
     "output_type": "display_data"
    }
   ],
   "source": [
    "par = SimpleNamespace()\n",
    "\n",
    "par.utility_A = 'cobb_douglas'\n",
    "par.alpha_A = par.beta_A = 1.0\n",
    "\n",
    "par.utility_B = 'cobb_douglas'\n",
    "par.alpha_B = par.beta_B = 1.0\n",
    "\n",
    "par.w1A = 5\n",
    "par.w2A = 5\n",
    "par.w1B = 5\n",
    "par.w2B = 5\n",
    "\n",
    "widgets.interact(lambda x1A,x2A: edgeworth_pareto(par,x1A,x2A),\n",
    "    x1A=widgets.FloatSlider(description='x1A',min=0.0,max=12.0,step=0.05,value=2.0), \n",
    "    x2A=widgets.FloatSlider(description='x2A',min=0.0,max=12.0,step=0.05,value=3.0), \n",
    ");"
   ]
  },
  {
   "cell_type": "markdown",
   "id": "f400116b-d305-4844-bf5d-c52fa442652b",
   "metadata": {},
   "source": [
    "## 2x Perfect substitutes"
   ]
  },
  {
   "cell_type": "code",
   "execution_count": 4,
   "id": "6228b558-6e87-4239-83ba-bf5853a00a18",
   "metadata": {},
   "outputs": [
    {
     "data": {
      "application/vnd.jupyter.widget-view+json": {
       "model_id": "c23d9330a1e044d39f44cce85960afc9",
       "version_major": 2,
       "version_minor": 0
      },
      "text/plain": [
       "interactive(children=(FloatSlider(value=2.0, description='x1A', max=10.0, step=0.05), FloatSlider(value=3.0, d…"
      ]
     },
     "metadata": {},
     "output_type": "display_data"
    }
   ],
   "source": [
    "par = SimpleNamespace()\n",
    "\n",
    "par.utility_A = 'perfect_substitutes'\n",
    "par.alpha_A = par.beta_A = 1.0\n",
    "\n",
    "par.utility_B = 'perfect_substitutes'\n",
    "par.alpha_B = 4.0\n",
    "par.beta_B = 2.0\n",
    "\n",
    "par.w1A = 5\n",
    "par.w2A = 5\n",
    "par.w1B = 5\n",
    "par.w2B = 5\n",
    "\n",
    "widgets.interact(lambda x1A,x2A: edgeworth_pareto(par,x1A,x2A),\n",
    "    x1A=widgets.FloatSlider(description='x1A',min=0.0,max=10.0,step=0.05,value=2.0), \n",
    "    x2A=widgets.FloatSlider(description='x2A',min=0.0,max=10.0,step=0.05,value=3.0), \n",
    ");"
   ]
  },
  {
   "cell_type": "markdown",
   "id": "92a961d9-30f8-488d-a336-cecbcf13122e",
   "metadata": {},
   "source": [
    "## Perfect substitutes and quasi-log"
   ]
  },
  {
   "cell_type": "code",
   "execution_count": 5,
   "id": "76817b16-8144-4796-b576-84f86bd5d56f",
   "metadata": {},
   "outputs": [
    {
     "data": {
      "application/vnd.jupyter.widget-view+json": {
       "model_id": "4097a632cedc4831971835d21f381806",
       "version_major": 2,
       "version_minor": 0
      },
      "text/plain": [
       "interactive(children=(FloatSlider(value=2.0, description='x1A', max=12.0, step=0.05), FloatSlider(value=3.0, d…"
      ]
     },
     "metadata": {},
     "output_type": "display_data"
    }
   ],
   "source": [
    "par = SimpleNamespace()\n",
    "\n",
    "par.w1A = 6\n",
    "par.w2A = 6\n",
    "par.w1B = 6\n",
    "par.w2B = 6\n",
    "\n",
    "par.utility_A = 'perfect_substitutes'\n",
    "par.alpha_A = par.beta_A = 1.0\n",
    "\n",
    "par.utility_B = 'quasi_log'\n",
    "par.alpha_B = 4.0\n",
    "par.beta_B = 1.0\n",
    "\n",
    "widgets.interact(lambda x1A,x2A: edgeworth_pareto(par,x1A,x2A),\n",
    "    x1A=widgets.FloatSlider(description='x1A',min=0.0,max=12.0,step=0.05,value=2.0), \n",
    "    x2A=widgets.FloatSlider(description='x2A',min=0.0,max=12.0,step=0.05,value=3.0), \n",
    ");"
   ]
  },
  {
   "cell_type": "code",
   "execution_count": 6,
   "id": "concrete-puppy",
   "metadata": {},
   "outputs": [],
   "source": [
    "if DO_PRINT:\n",
    "            \n",
    "    par.w1A = 6\n",
    "    par.w2A = 6\n",
    "    par.w1B = 6\n",
    "    par.w2B = 6\n",
    "\n",
    "    par.utility_A = 'perfect_substitutes'\n",
    "    par.alpha_A = par.beta_A = 1.0\n",
    "\n",
    "    par.utility_B = 'quasi_log'\n",
    "    par.alpha_B = 4.0\n",
    "    par.beta_B = 1.0\n",
    "    \n",
    "    for (x1A,x2A) in [(0,2),(0,6),(0,10)] + [(4,0),(6,0),(8,0),(10,0)] + [(4,12),(6,12),(8,12),(10,12)] + [(4,4),(8,4),(4,8),(8,8)]:\n",
    "        edgeworth_pareto(par,x1A,x2A,name=f'contractcurve_{x1A}_{x2A}.pdf')\n",
    "        "
   ]
  },
  {
   "cell_type": "markdown",
   "id": "practical-radical",
   "metadata": {},
   "source": [
    "# Walras in Edgeworth with Cobb-Dogulas"
   ]
  },
  {
   "cell_type": "code",
   "execution_count": 7,
   "id": "quality-imperial",
   "metadata": {},
   "outputs": [
    {
     "data": {
      "application/vnd.jupyter.widget-view+json": {
       "model_id": "5dc0d38d6f4448a2ba9a70146742fd24",
       "version_major": 2,
       "version_minor": 0
      },
      "text/plain": [
       "interactive(children=(FloatSlider(value=1.0, description='p1', max=5.0, min=0.1, step=0.05), Output()), _dom_c…"
      ]
     },
     "metadata": {},
     "output_type": "display_data"
    }
   ],
   "source": [
    "def edgeworth_cobb_douglas(par,p1):\n",
    "    \n",
    "    # a. total endowment\n",
    "    w1bar = par.w1A + par.w1B\n",
    "    w2bar = par.w2A + par.w2B\n",
    "    \n",
    "    # b. figure set up\n",
    "    fig = plt.figure(frameon=False, figsize=(6, 6), dpi=100)\n",
    "    ax_A = fig.add_subplot(1, 1, 1)\n",
    "    \n",
    "    ax_A.set_xlabel(\"$x_1^A$\")\n",
    "    ax_A.set_ylabel(\"$x_2^A$\")\n",
    "\n",
    "    temp = ax_A.twinx()\n",
    "    temp.set_ylabel(\"$x_2^B$\")\n",
    "    ax_B = temp.twiny()\n",
    "    ax_B.set_xlabel(\"$x_1^B$\")\n",
    "    ax_B.invert_xaxis()\n",
    "    ax_B.invert_yaxis()\n",
    "    \n",
    "    # endowment\n",
    "    ax_A.scatter(par.w1A,par.w2A,color='black')\n",
    "    ax_A.text(par.w1A*1.05,par.w2A*1.05,f'endowment')\n",
    "    \n",
    "    # A\n",
    "    mA = p1*par.w1A + par.w2A \n",
    "    x1A = par.a*mA/p1\n",
    "    x2A = (1-par.a)*mA\n",
    "    ax_A.scatter(x1A,x2A,marker='*',color=colors[0])\n",
    "    ax_A.text(x1A*1.025,x2A*1.025,f'A',color=colors[0])\n",
    "    \n",
    "    x1A_vec = np.linspace(x1A*0.5,x1A*1.5,100)\n",
    "    u = x1A**par.a*x2A**(1-par.a)\n",
    "    ax_A.plot(x1A_vec,(u/x1A_vec**par.a)**(1/(1-par.a)),color=colors[0])\n",
    "    \n",
    "    # budgetline\n",
    "    ax_A.plot([0,w1bar],[par.w2A+p1*par.w1A,par.w2A-p1*(w1bar-par.w1A)],color='black')\n",
    "    \n",
    "    # B\n",
    "    mB = p1*par.w1B + par.w2B\n",
    "    x1B = par.b*mB/p1\n",
    "    x2B = (1-par.b)*mB\n",
    "    ax_B.scatter(x1B,x2B,marker='*',color=colors[1])\n",
    "    ax_B.text(x1B*1.07,x2B*1.07,f'B',color=colors[1])\n",
    "    \n",
    "    x1B_vec = np.linspace(x1B*0.5,x1B*1.5,100)\n",
    "    u = x1B**par.b*x2B**(1-par.b)\n",
    "    ax_B.plot(x1B_vec,(u/x1B_vec**par.b)**(1/(1-par.b)),color=colors[1])\n",
    "    \n",
    "    # limits\n",
    "    ax_A.plot([0,w1bar],[0,0],lw=2,color='black')\n",
    "    ax_A.plot([0,w1bar],[w2bar,w2bar],lw=2,color='black')\n",
    "    ax_A.plot([0,0],[0,w2bar],lw=2,color='black')\n",
    "    ax_A.plot([w1bar,w1bar],[0,w2bar],lw=2,color='black')\n",
    "    \n",
    "    ax_A.set_xlim([-0.1, w1bar + 0.1])\n",
    "    ax_A.set_ylim([-0.1, w2bar + 0.1])    \n",
    "    ax_B.set_xlim([w1bar + 0.1, -0.1])\n",
    "    ax_B.set_ylim([w2bar + 0.1, -0.1])\n",
    "    \n",
    "    fig.tight_layout()\n",
    "\n",
    "    plt.show()\n",
    "    \n",
    "# parameters\n",
    "par = SimpleNamespace()\n",
    "par.a = 0.5\n",
    "par.b = 0.5\n",
    "par.w1A = 0.7\n",
    "par.w2A = 1.5\n",
    "par.w1B = 1.3\n",
    "par.w2B = 0.5\n",
    "\n",
    "widgets.interact(lambda p1: edgeworth_cobb_douglas(par,p1),\n",
    "    p1=widgets.FloatSlider(description='p1',min=0.1,max=5.0,step=0.05,value=1.0), \n",
    ");"
   ]
  },
  {
   "cell_type": "code",
   "execution_count": 8,
   "id": "artistic-combining",
   "metadata": {},
   "outputs": [
    {
     "data": {
      "application/vnd.jupyter.widget-view+json": {
       "model_id": "06d002713e2f4b0ca92c1e925581cc3d",
       "version_major": 2,
       "version_minor": 0
      },
      "text/plain": [
       "interactive(children=(FloatSlider(value=1.0, description='p1', max=5.0, min=0.1, step=0.05), Output()), _dom_c…"
      ]
     },
     "metadata": {},
     "output_type": "display_data"
    }
   ],
   "source": [
    "par = SimpleNamespace()\n",
    "par.a = 0.5\n",
    "par.b = 0.5\n",
    "par.w1A = 0.5\n",
    "par.w2A = 1.5\n",
    "par.w1B = 1.5\n",
    "par.w2B = 0.5\n",
    "\n",
    "widgets.interact(lambda p1: edgeworth_cobb_douglas(par,p1),\n",
    "    p1=widgets.FloatSlider(description='p1',min=0.1,max=5.0,step=0.05,value=1.0), \n",
    ");"
   ]
  },
  {
   "cell_type": "markdown",
   "id": "beginning-magnitude",
   "metadata": {},
   "source": [
    "# Algorithmic solution"
   ]
  },
  {
   "cell_type": "markdown",
   "id": "determined-gallery",
   "metadata": {},
   "source": [
    "**Algorithm:**"
   ]
  },
  {
   "cell_type": "code",
   "execution_count": 9,
   "id": "robust-audience",
   "metadata": {},
   "outputs": [],
   "source": [
    "def excess_demand_x1(p1,a,k):\n",
    "    \n",
    "    m = p1*k + 1\n",
    "    x1 = a*m/p1\n",
    "    z1 = x1-k\n",
    "    return z1\n",
    "\n",
    "def iterate(p1_guess,N=10000,mu_1=0.25,mu_2=0.75,k=5,eps=1e-8, kappa=0.1,maxiter=50):\n",
    "\n",
    "    # a. draw preferences\n",
    "    a = np.random.uniform(low=mu_1,high=mu_2,size=N)\n",
    "    \n",
    "    # b. iterate\n",
    "    t = 0\n",
    "    while True:\n",
    "    \n",
    "        if t == 0:\n",
    "            p1 = p1_guess\n",
    "        else:\n",
    "            p1 = p1 + kappa*z1/N\n",
    "    \n",
    "        z1 = np.sum(excess_demand_x1(p1,a,k))\n",
    "        print(f'{t:3d}: p1 = {p1:12.8f} -> z1 -> {z1:14.8f}')\n",
    "        time.sleep(1)\n",
    "        \n",
    "        if t >= maxiter or np.abs(z1) < eps:\n",
    "            break\n",
    "            \n",
    "        t += 1\n",
    "    "
   ]
  },
  {
   "cell_type": "markdown",
   "id": "fuzzy-exhibit",
   "metadata": {},
   "source": [
    "**Run:**"
   ]
  },
  {
   "cell_type": "code",
   "execution_count": 10,
   "id": "interesting-second",
   "metadata": {},
   "outputs": [
    {
     "name": "stdout",
     "output_type": "stream",
     "text": [
      "analytical result: p1 = 0.20000000\n",
      "  0: p1 =   0.24000000 -> z1 -> -4178.50565043\n",
      "  1: p1 =   0.19821494 -> z1 ->   212.16810445\n",
      "  2: p1 =   0.20033662 -> z1 ->   -54.91176827\n",
      "  3: p1 =   0.19978751 -> z1 ->    13.66777035\n",
      "  4: p1 =   0.19992418 -> z1 ->    -3.43718015\n",
      "  5: p1 =   0.19988981 -> z1 ->     0.86218280\n",
      "  6: p1 =   0.19989843 -> z1 ->    -0.21640899\n",
      "  7: p1 =   0.19989627 -> z1 ->     0.05431019\n",
      "  8: p1 =   0.19989681 -> z1 ->    -0.01363028\n",
      "  9: p1 =   0.19989668 -> z1 ->     0.00342077\n",
      " 10: p1 =   0.19989671 -> z1 ->    -0.00085851\n",
      " 11: p1 =   0.19989670 -> z1 ->     0.00021546\n",
      " 12: p1 =   0.19989671 -> z1 ->    -0.00005407\n",
      " 13: p1 =   0.19989670 -> z1 ->     0.00001357\n",
      " 14: p1 =   0.19989670 -> z1 ->    -0.00000341\n",
      " 15: p1 =   0.19989670 -> z1 ->     0.00000085\n",
      " 16: p1 =   0.19989670 -> z1 ->    -0.00000021\n",
      " 17: p1 =   0.19989670 -> z1 ->     0.00000005\n",
      " 18: p1 =   0.19989670 -> z1 ->    -0.00000001\n",
      " 19: p1 =   0.19989670 -> z1 ->     0.00000000\n"
     ]
    }
   ],
   "source": [
    "# a. settings\n",
    "N = 10000\n",
    "mu_1 = 0.25\n",
    "mu_2 = 0.75\n",
    "k = 5\n",
    "eps = 1e-8\n",
    "kappa = 0.1\n",
    "p1_guess = 0.24\n",
    "\n",
    "# b. analytical solution\n",
    "mu = mu_1 + (mu_2-mu_1)/2\n",
    "p1_analytical = (mu/(1-mu))/k\n",
    "print(f'analytical result: p1 = {p1_analytical:.8f}')\n",
    "\n",
    "# c. algorithmic solution\n",
    "p1_guess = p1_analytical*1.2\n",
    "iterate(p1_guess,N,mu_1,mu_2,k,eps,kappa)"
   ]
  }
 ],
 "metadata": {
  "kernelspec": {
   "display_name": "Python 3 (ipykernel)",
   "language": "python",
   "name": "python3"
  },
  "language_info": {
   "codemirror_mode": {
    "name": "ipython",
    "version": 3
   },
   "file_extension": ".py",
   "mimetype": "text/x-python",
   "name": "python",
   "nbconvert_exporter": "python",
   "pygments_lexer": "ipython3",
   "version": "3.10.11"
  },
  "toc-autonumbering": true
 },
 "nbformat": 4,
 "nbformat_minor": 5
}
