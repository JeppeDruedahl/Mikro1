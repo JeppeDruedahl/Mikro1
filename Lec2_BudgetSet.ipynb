{
 "cells": [
  {
   "cell_type": "markdown",
   "metadata": {},
   "source": [
    "**Imports:**"
   ]
  },
  {
   "cell_type": "code",
   "execution_count": 1,
   "metadata": {},
   "outputs": [],
   "source": [
    "import numpy as np\n",
    "\n",
    "import matplotlib.pyplot as plt\n",
    "plt.style.use('seaborn-whitegrid')\n",
    "prop_cycle = plt.rcParams['axes.prop_cycle']\n",
    "colors = prop_cycle.by_key()['color']\n",
    "\n",
    "import ipywidgets as widgets"
   ]
  },
  {
   "cell_type": "markdown",
   "metadata": {},
   "source": [
    "# Plotting function"
   ]
  },
  {
   "cell_type": "markdown",
   "metadata": {},
   "source": [
    "$$ \n",
    "\\mathcal{C}(p_1,p_2,m) = \\{(x_1,x_2) \\in \\mathbb{R}_{+}^2 \\,\\, | \\,\\, p_1 x_1 + p_2 x_2 \\leq m\\}\n",
    "$$"
   ]
  },
  {
   "cell_type": "code",
   "execution_count": 2,
   "metadata": {},
   "outputs": [],
   "source": [
    "def plot_budgetset(p1,p2,m,x1_max=10,x2_max=10,name=None):\n",
    "    \n",
    "    # a. figure\n",
    "    fig = plt.figure(figsize=(6,6),dpi=100)\n",
    "    ax = fig.add_subplot(1,1,1)\n",
    "    \n",
    "    # fill\n",
    "    x = [0,0,m/p1]\n",
    "    y = [0,m/p2,0]    \n",
    "    ax.fill(x,y,alpha=0.80)\n",
    "    \n",
    "    # line\n",
    "    x = [0,m/p1]\n",
    "    y = [m/p2,0]    \n",
    "    ax.plot(x,y,color='black')\n",
    "          \n",
    "    # slope\n",
    "    x = m/p1/4*1.03\n",
    "    y = (m-p1*x)/p2*1.03\n",
    "    ax.text(x,y, f\"slope = -{p1/p2:.2f}\")\n",
    "        \n",
    "    # details\n",
    "    ax.set_xlabel('$x_1$')\n",
    "    ax.set_ylabel('$x_2$')\n",
    "    ax.set_xlim([0,x1_max])\n",
    "    ax.set_ylim([0,x2_max])\n",
    "    \n",
    "    # save\n",
    "    if not name is None: fig.savefig(name)\n",
    "    "
   ]
  },
  {
   "cell_type": "markdown",
   "metadata": {},
   "source": [
    "# Static"
   ]
  },
  {
   "cell_type": "code",
   "execution_count": 3,
   "metadata": {},
   "outputs": [
    {
     "data": {
      "image/png": "[encoded data removed]",
      "text/plain": [
       "<Figure size 600x600 with 1 Axes>"
      ]
     },
     "metadata": {},
     "output_type": "display_data"
    }
   ],
   "source": [
    "plot_budgetset(p1=2.0,p2=1.0,m=6.0)"
   ]
  },
  {
   "cell_type": "markdown",
   "metadata": {},
   "source": [
    "# Interactive"
   ]
  },
  {
   "cell_type": "code",
   "execution_count": 4,
   "metadata": {},
   "outputs": [
    {
     "data": {
      "application/vnd.jupyter.widget-view+json": {
       "model_id": "e04aeff671834ae58f03aa7f653e318f",
       "version_major": 2,
       "version_minor": 0
      },
      "text/plain": [
       "interactive(children=(FloatSlider(value=2.0, description='$p_1$', max=5.0, min=0.1, step=0.05), FloatSlider(va…"
      ]
     },
     "metadata": {},
     "output_type": "display_data"
    }
   ],
   "source": [
    "widgets.interact(lambda p1,p2,m: plot_budgetset(p1=p1,p2=p2,m=m),\n",
    "    p1=widgets.FloatSlider(description=r'$p_1$',min=0.1,max=5.0,step=0.05,value=2.0), \n",
    "    p2=widgets.FloatSlider(description=r'$p_2$',min=0.1,max=5.0,step=0.05,value=1.0),\n",
    "    m=widgets.FloatSlider(description=r'$m$',min=0.1, max=10.0,step=0.05,value=6.0)\n",
    ");"
   ]
  }
 ],
 "metadata": {
  "kernelspec": {
   "display_name": "Python 3",
   "language": "python",
   "name": "python3"
  },
  "language_info": {
   "codemirror_mode": {
    "name": "ipython",
    "version": 3
   },
   "file_extension": ".py",
   "mimetype": "text/x-python",
   "name": "python",
   "nbconvert_exporter": "python",
   "pygments_lexer": "ipython3",
   "version": "3.8.6"
  }
 },
 "nbformat": 4,
 "nbformat_minor": 5
}
