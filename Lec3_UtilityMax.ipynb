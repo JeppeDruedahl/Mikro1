{
 "cells": [
  {
   "cell_type": "markdown",
   "id": "nonprofit-adaptation",
   "metadata": {},
   "source": [
    "**Imports:**"
   ]
  },
  {
   "cell_type": "code",
   "execution_count": 1,
   "id": "concerned-teddy",
   "metadata": {},
   "outputs": [],
   "source": [
    "import numpy as np\n",
    "\n",
    "import matplotlib.pyplot as plt\n",
    "plt.style.use('seaborn-whitegrid')\n",
    "prop_cycle = plt.rcParams['axes.prop_cycle']\n",
    "colors = prop_cycle.by_key()['color']\n",
    "\n",
    "import ipywidgets as widgets"
   ]
  },
  {
   "cell_type": "markdown",
   "id": "regulation-subdivision",
   "metadata": {},
   "source": [
    "# Plotting function"
   ]
  },
  {
   "cell_type": "markdown",
   "id": "sacred-concert",
   "metadata": {},
   "source": [
    "$$\n",
    "\\max_{x_{1},x_{2}\\in\\mathbb{R}_{+}^{2}}\\alpha\\ln(x_{1})+\\beta x_{2}\\,\\,\\,\\text{u.b.b.}\\,\\,\\,p_{1}x_{1}+p_{2}x_{2} \\leq m\n",
    "$$"
   ]
  },
  {
   "cell_type": "code",
   "execution_count": 2,
   "id": "based-computer",
   "metadata": {},
   "outputs": [],
   "source": [
    "utility_func = lambda x1,x2,alpha,beta: alpha*np.log(x1)+x2*beta\n",
    "indiff_func_x1 = lambda u0,x1,alpha,beta: (u0-alpha*np.log(x1))/beta"
   ]
  },
  {
   "cell_type": "code",
   "execution_count": 3,
   "id": "considerable-progressive",
   "metadata": {},
   "outputs": [],
   "source": [
    "def solution_func(p1,p2,m,alpha,beta):\n",
    "    \n",
    "    x1 = alpha/beta*p2/p1\n",
    "    x2 = (m-p1*x1)/p2\n",
    "        \n",
    "    if m > alpha/beta*p2:\n",
    "        \n",
    "        return (x1,x2),None\n",
    "    \n",
    "    else:\n",
    "        \n",
    "        return (m/p1,0),(x1,x2)\n"
   ]
  },
  {
   "cell_type": "code",
   "execution_count": 4,
   "id": "contrary-angola",
   "metadata": {},
   "outputs": [],
   "source": [
    "def plot_solution(alpha,beta,p1,p2,m,x1_max=10,x2_max=10,N=100):\n",
    "    \n",
    "    # a. solution\n",
    "    (x1,x2),x_ucon = solution_func(p1,p2,m,alpha,beta)\n",
    "    u = utility_func(x1,x2,alpha,beta)\n",
    "    \n",
    "    # b. create figure\n",
    "    fig = plt.figure(figsize=(6,6),dpi=100)\n",
    "    ax = fig.add_subplot(1,1,1)\n",
    "    \n",
    "    # c. budget set\n",
    "    \n",
    "    # line    \n",
    "    x = [0,m/p1]\n",
    "    y = [m/p2, 0]\n",
    "    ax.plot(x,y,color='black',label='budget line')\n",
    "\n",
    "    x = [0,(m+5*p2)/p1]\n",
    "    y = [m/p2,-5]\n",
    "    ax.plot(x,y,color='black',ls='--')\n",
    "\n",
    "    # solution\n",
    "    x1_vec = np.linspace(1e-8,x1_max,1000)\n",
    "    x2_x1 = indiff_func_x1(u,x1_vec,alpha,beta)\n",
    "    ax.plot(x1_vec,x2_x1,label='indifference curve',color=colors[0])\n",
    "    \n",
    "    ax.scatter(x1,x2,marker='*',label='optimal choice')\n",
    "    \n",
    "    # MRS = p1/p2\n",
    "    if not x_ucon is None:\n",
    "        \n",
    "        y1,y2 = x_ucon\n",
    "        u_y = utility_func(y1,y2,alpha,beta)\n",
    "        x2_x1 = indiff_func_x1(u_y,x1_vec,alpha,beta)\n",
    "        ax.plot(x1_vec,x2_x1,color=colors[1])        \n",
    "        ax.scatter(y1,y2,marker='s',label='$|MRS| = p_1/p_2$')\n",
    "        \n",
    "    # details\n",
    "    ax.legend(frameon=True)\n",
    "    ax.set_xlim([0,10])\n",
    "    ax.set_ylim([-5,10])\n",
    "    ax.set_xlabel('$x_1$')\n",
    "    ax.set_ylabel('$x_2$')\n",
    "    "
   ]
  },
  {
   "cell_type": "markdown",
   "id": "blocked-breeding",
   "metadata": {},
   "source": [
    "# Interactive"
   ]
  },
  {
   "cell_type": "code",
   "execution_count": 5,
   "id": "banner-colors",
   "metadata": {},
   "outputs": [
    {
     "data": {
      "application/vnd.jupyter.widget-view+json": {
       "model_id": "85019af7592a4542a2a5070561692989",
       "version_major": 2,
       "version_minor": 0
      },
      "text/plain": [
       "interactive(children=(FloatSlider(value=0.8, description='alpha', max=1.0, min=0.1, step=0.05), FloatSlider(va…"
      ]
     },
     "metadata": {},
     "output_type": "display_data"
    }
   ],
   "source": [
    "widgets.interact(lambda alpha,beta,p1,p2,m: plot_solution(alpha=alpha,beta=beta,p1=p1,p2=p2,m=m),\n",
    "    alpha=widgets.FloatSlider(description=r'alpha',min=0.1, max=1.0, step=0.05, value=0.80), \n",
    "    beta=widgets.FloatSlider(description=r'beta',min=0.1, max=1.0, step=0.05, value=0.25),                    \n",
    "    p1=widgets.FloatSlider(description=r'p1',min=0.1,max=5.0,step=0.05,value=1.0), \n",
    "    p2=widgets.FloatSlider(description=r'p2',min=0.1,max=5.0,step=0.05,value=1.0),\n",
    "    m=widgets.FloatSlider(description=r'm',min=0.1, max=10.0,step=0.05,value=6.0),\n",
    ");"
   ]
  }
 ],
 "metadata": {
  "kernelspec": {
   "display_name": "Python 3",
   "language": "python",
   "name": "python3"
  },
  "language_info": {
   "codemirror_mode": {
    "name": "ipython",
    "version": 3
   },
   "file_extension": ".py",
   "mimetype": "text/x-python",
   "name": "python",
   "nbconvert_exporter": "python",
   "pygments_lexer": "ipython3",
   "version": "3.8.8"
  }
 },
 "nbformat": 4,
 "nbformat_minor": 5
}
